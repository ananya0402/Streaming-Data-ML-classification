{
 "cells": [
  {
   "cell_type": "markdown",
   "metadata": {},
   "source": [
    "# ASSIGNMENT 2A\n",
    "\n",
    "Name: Ananya Pandey\n",
    "\n",
    "Tutorial: 015"
   ]
  },
  {
   "cell_type": "markdown",
   "metadata": {},
   "source": [
    "# 1. Data preparation and exploration"
   ]
  },
  {
   "cell_type": "markdown",
   "metadata": {},
   "source": [
    "## 1.1 Creating Spark Session"
   ]
  },
  {
   "cell_type": "markdown",
   "metadata": {},
   "source": [
    "##### 1. Create a SparkConf object for using as many local cores as possible, for a proper application name, and for changing the max partition byte configuration to enable a minimum of 2 partitions when reading each file in Spark SQL"
   ]
  },
  {
   "cell_type": "code",
   "execution_count": 1,
   "metadata": {},
   "outputs": [],
   "source": [
    "# Import SparkConf class into program\n",
    "from pyspark import SparkConf\n",
    "\n",
    "# local[*]: run Spark in local mode with as many working processors as logical cores on your machine\n",
    "# If we want Spark to run locally with 'k' worker threads, we can specify as \"local[k]\".\n",
    "master = \"local[*]\"\n",
    "# The `appName` field is a name to be shown on the Spark cluster UI page\n",
    "app_name = \"Assignment 2A\"\n",
    "# Setup configuration parameters for Spark\n",
    "spark_conf = SparkConf().setMaster(master).setAppName(app_name).set('spark.sql.files.maxPartitionBytes','35000000')"
   ]
  },
  {
   "cell_type": "markdown",
   "metadata": {},
   "source": [
    "##### 2. Then create a SparkSession using the SparkConf object."
   ]
  },
  {
   "cell_type": "code",
   "execution_count": 2,
   "metadata": {},
   "outputs": [],
   "source": [
    "# Import SparkContext and SparkSession classes\n",
    "from pyspark import SparkContext # Spark\n",
    "from pyspark.sql import SparkSession # Spark SQL\n",
    "\n",
    "spark = SparkSession.builder.config(conf = spark_conf).getOrCreate()\n",
    "sc = spark.sparkContext\n",
    "sc.setLogLevel('ERROR')"
   ]
  },
  {
   "cell_type": "code",
   "execution_count": 3,
   "metadata": {},
   "outputs": [],
   "source": [
    "from pyspark.ml import Pipeline\n",
    "from pyspark.ml.classification import DecisionTreeClassifier, RandomForestClassifier, GBTClassifier, LogisticRegression\n",
    "from pyspark.ml.feature import StringIndexer, OneHotEncoder, VectorAssembler, IndexToString, StandardScaler\n",
    "from pyspark.ml.evaluation import MulticlassClassificationEvaluator\n",
    "from pyspark.sql.functions import when, col, rand\n",
    "import numpy as np \n",
    "import matplotlib.pyplot as plt  \n",
    "import pandas as pd"
   ]
  },
  {
   "cell_type": "markdown",
   "metadata": {},
   "source": [
    "## 1.2 Loading the data\n",
    "##### 1. Load each activity data into a Spark dataframe and cache the data. Then print out the row count of each dataframe."
   ]
  },
  {
   "cell_type": "code",
   "execution_count": 4,
   "metadata": {},
   "outputs": [],
   "source": [
    "from pyspark.sql.types import StructType, IntegerType, StructField, StringType, DoubleType\n",
    "memory_schema = StructType([\n",
    "    StructField(\"ts\", IntegerType()),\n",
    "    StructField(\"PID\", IntegerType()),\n",
    "    StructField(\"MINFLT\", StringType()),\n",
    "    StructField(\"MAJFLT\", StringType()),\n",
    "    StructField(\"VSTEXT\", StringType()),\n",
    "    StructField(\"VSIZE\", DoubleType()),\n",
    "    StructField(\"RSIZE\", StringType()),\n",
    "    StructField(\"VGROW\", StringType()),\n",
    "    StructField(\"RGROW\", StringType()),\n",
    "    StructField(\"MEM\", DoubleType()),\n",
    "    StructField(\"CMD\", StringType()),\n",
    "    StructField(\"attack\", IntegerType()),\n",
    "    StructField(\"type\", StringType())\n",
    "])\n"
   ]
  },
  {
   "cell_type": "code",
   "execution_count": 5,
   "metadata": {},
   "outputs": [],
   "source": [
    "#Load all the units csv files in a units_df dataframe\n",
    "a = [\"linux_memory_1.csv\", \"linux_memory_2.csv\"]\n",
    "memory_df = spark.read.csv(a, header=True, schema=memory_schema).cache()"
   ]
  },
  {
   "cell_type": "code",
   "execution_count": 6,
   "metadata": {},
   "outputs": [],
   "source": [
    "process_schema = StructType([\n",
    "    StructField(\"ts\", IntegerType()),\n",
    "    StructField(\"PID\", IntegerType()),\n",
    "    StructField(\"TRUN\", IntegerType()),\n",
    "    StructField(\"TSLPI\", IntegerType()),\n",
    "    StructField(\"TSLPU\", IntegerType()),\n",
    "    StructField(\"POLI\", StringType()),\n",
    "    StructField(\"NICE\", IntegerType()),\n",
    "    StructField(\"PRI\", IntegerType()),\n",
    "    StructField(\"RTPR\", IntegerType()),\n",
    "    StructField(\"CPUNR\", IntegerType()),\n",
    "    StructField(\"Status\", StringType()),\n",
    "    StructField(\"EXC\", IntegerType()),\n",
    "    StructField(\"State\", StringType()),\n",
    "    StructField(\"CPU\", IntegerType()),\n",
    "    StructField(\"CMD\", StringType()),\n",
    "    StructField(\"attack\", IntegerType()),\n",
    "    StructField(\"type\", StringType())\n",
    "])"
   ]
  },
  {
   "cell_type": "code",
   "execution_count": 7,
   "metadata": {},
   "outputs": [],
   "source": [
    "#Load all the units csv files in a units_df dataframe\n",
    "b = [\"linux_process_1.csv\", \"linux_process_2.csv\"]\n",
    "process_df = spark.read.csv(b, header=True, schema=process_schema).cache()\n",
    "#process_df = spark.read.csv(b, header=True, inferSchema=True).cache()"
   ]
  },
  {
   "cell_type": "code",
   "execution_count": 8,
   "metadata": {},
   "outputs": [
    {
     "name": "stdout",
     "output_type": "stream",
     "text": [
      "root\n",
      " |-- ts: integer (nullable = true)\n",
      " |-- PID: integer (nullable = true)\n",
      " |-- MINFLT: string (nullable = true)\n",
      " |-- MAJFLT: string (nullable = true)\n",
      " |-- VSTEXT: string (nullable = true)\n",
      " |-- VSIZE: double (nullable = true)\n",
      " |-- RSIZE: string (nullable = true)\n",
      " |-- VGROW: string (nullable = true)\n",
      " |-- RGROW: string (nullable = true)\n",
      " |-- MEM: double (nullable = true)\n",
      " |-- CMD: string (nullable = true)\n",
      " |-- attack: integer (nullable = true)\n",
      " |-- type: string (nullable = true)\n",
      "\n"
     ]
    }
   ],
   "source": [
    "memory_df.printSchema()"
   ]
  },
  {
   "cell_type": "code",
   "execution_count": 9,
   "metadata": {},
   "outputs": [
    {
     "name": "stdout",
     "output_type": "stream",
     "text": [
      "root\n",
      " |-- ts: integer (nullable = true)\n",
      " |-- PID: integer (nullable = true)\n",
      " |-- TRUN: integer (nullable = true)\n",
      " |-- TSLPI: integer (nullable = true)\n",
      " |-- TSLPU: integer (nullable = true)\n",
      " |-- POLI: string (nullable = true)\n",
      " |-- NICE: integer (nullable = true)\n",
      " |-- PRI: integer (nullable = true)\n",
      " |-- RTPR: integer (nullable = true)\n",
      " |-- CPUNR: integer (nullable = true)\n",
      " |-- Status: string (nullable = true)\n",
      " |-- EXC: integer (nullable = true)\n",
      " |-- State: string (nullable = true)\n",
      " |-- CPU: integer (nullable = true)\n",
      " |-- CMD: string (nullable = true)\n",
      " |-- attack: integer (nullable = true)\n",
      " |-- type: string (nullable = true)\n",
      "\n"
     ]
    }
   ],
   "source": [
    "process_df.printSchema()"
   ]
  },
  {
   "cell_type": "code",
   "execution_count": 10,
   "metadata": {},
   "outputs": [
    {
     "name": "stdout",
     "output_type": "stream",
     "text": [
      "Row count of memory activity: 2000000\n"
     ]
    }
   ],
   "source": [
    "print(\"Row count of memory activity:\",memory_df.count())"
   ]
  },
  {
   "cell_type": "code",
   "execution_count": 11,
   "metadata": {},
   "outputs": [
    {
     "name": "stdout",
     "output_type": "stream",
     "text": [
      "Row count of process activity: 1927968\n"
     ]
    }
   ],
   "source": [
    "print(\"Row count of process activity:\",process_df.count())"
   ]
  },
  {
   "cell_type": "markdown",
   "metadata": {},
   "source": [
    "##### 2. For each column in each dataframe above,\n",
    "##### ○ Check the null data (if any) and print out the corresponding count in each column\n",
    "##### ○ Are these columns 'MINFLT', 'MAJFLT', 'VSTEXT', 'RSIZE', 'VGROW', 'RGROW' in memory data following the datatype from the metadata file? If not, please transform them into the proper formats"
   ]
  },
  {
   "cell_type": "code",
   "execution_count": 12,
   "metadata": {},
   "outputs": [],
   "source": [
    "from pyspark.sql import functions as F\n",
    "from pyspark.sql.types import IntegerType"
   ]
  },
  {
   "cell_type": "code",
   "execution_count": 13,
   "metadata": {},
   "outputs": [
    {
     "name": "stdout",
     "output_type": "stream",
     "text": [
      "+---+---+------+------+------+-----+-----+-----+-----+---+---+------+----+\n",
      "| ts|PID|MINFLT|MAJFLT|VSTEXT|VSIZE|RSIZE|VGROW|RGROW|MEM|CMD|attack|type|\n",
      "+---+---+------+------+------+-----+-----+-----+-----+---+---+------+----+\n",
      "|  0|  0|     0|     0|     0|    0|    0|    0|    0|  0|  0|     0|   0|\n",
      "+---+---+------+------+------+-----+-----+-----+-----+---+---+------+----+\n",
      "\n"
     ]
    }
   ],
   "source": [
    "from pyspark.sql.functions import isnan, when, count, col\n",
    "memory_df.select([count(when(isnan(c) | col(c).isNull(), c)).alias(c) for c in memory_df.columns]).show()"
   ]
  },
  {
   "cell_type": "code",
   "execution_count": 14,
   "metadata": {},
   "outputs": [
    {
     "name": "stdout",
     "output_type": "stream",
     "text": [
      "+---+---+----+-----+-----+----+----+---+----+-----+------+---+-----+------+---+------+----+\n",
      "| ts|PID|TRUN|TSLPI|TSLPU|POLI|NICE|PRI|RTPR|CPUNR|Status|EXC|State|   CPU|CMD|attack|type|\n",
      "+---+---+----+-----+-----+----+----+---+----+-----+------+---+-----+------+---+------+----+\n",
      "|  0|  0|   0|    0|    0|   0|   0|  0|   0|    0|     0|  0|    0|512374|  0|     0|   0|\n",
      "+---+---+----+-----+-----+----+----+---+----+-----+------+---+-----+------+---+------+----+\n",
      "\n"
     ]
    }
   ],
   "source": [
    "from pyspark.sql.functions import isnan, when, count, col\n",
    "process_df.select([count(when(isnan(c) | col(c).isNull(), c)).alias(c) for c in process_df.columns]).show()"
   ]
  },
  {
   "cell_type": "code",
   "execution_count": 15,
   "metadata": {},
   "outputs": [],
   "source": [
    "pandas_df = memory_df.select(\"*\").toPandas()"
   ]
  },
  {
   "cell_type": "code",
   "execution_count": 16,
   "metadata": {},
   "outputs": [],
   "source": [
    "pandas_df.MINFLT = pandas_df.MINFLT.str.replace(' ', '')\n",
    "pandas_df.MAJFLT = pandas_df.MAJFLT.str.replace(' ', '')\n",
    "pandas_df.VSTEXT = pandas_df.VSTEXT.str.replace(' ', '')\n",
    "pandas_df.RSIZE = pandas_df.RSIZE.str.replace(' ', '')\n",
    "pandas_df.VGROW = pandas_df.VGROW.str.replace(' ', '')\n",
    "pandas_df.RGROW = pandas_df.RGROW.str.replace(' ', '')"
   ]
  },
  {
   "cell_type": "markdown",
   "metadata": {},
   "source": [
    "##### Reference:\n",
    "Njuguna, J. (2020). Convert the string 2.90K to 2900 or 5.2M to 5200000 in pandas dataframe. Retrieved 3 October 2020, from https://stackoverflow.com/questions/39684548/convert-the-string-2-90k-to-2900-or-5-2m-to-5200000-in-pandas-dataframe"
   ]
  },
  {
   "cell_type": "code",
   "execution_count": 17,
   "metadata": {},
   "outputs": [],
   "source": [
    "pandas_df.MINFLT = (pandas_df.MINFLT.replace(r'[KMG]+$', '', regex=True).astype(float) * pandas_df.MINFLT.str.extract(r'[\\d\\.]+([KMG]+)', expand=False).fillna(1).replace(['K','M', 'G'], [10**3, 10**6, 10**9]).astype(int))\n",
    "pandas_df.MAJFLT = (pandas_df.MAJFLT.replace(r'[KMG]+$', '', regex=True).astype(float) * pandas_df.MAJFLT.str.extract(r'[\\d\\.]+([KMG]+)', expand=False).fillna(1).replace(['K','M', 'G'], [10**3, 10**6, 10**9]).astype(int))\n",
    "pandas_df.VSTEXT = (pandas_df.VSTEXT.replace(r'[KMG]+$', '', regex=True).astype(float) * pandas_df.VSTEXT.str.extract(r'[\\d\\.]+([KMG]+)', expand=False).fillna(1).replace(['K','M', 'G'], [10**3, 10**6, 10**9]).astype(int))\n",
    "pandas_df.RSIZE = (pandas_df.RSIZE.replace(r'[KMG]+$', '', regex=True).astype(float) * pandas_df.RSIZE.str.extract(r'[\\d\\.]+([KMG]+)', expand=False).fillna(1).replace(['K','M', 'G'], [10**3, 10**6, 10**9]).astype(int))\n",
    "pandas_df.VGROW = (pandas_df.VGROW.replace(r'[KMG]+$', '', regex=True).astype(float) * pandas_df.VGROW.str.extract(r'[\\d\\.]+([KMG]+)', expand=False).fillna(1).replace(['K','M', 'G'], [10**3, 10**6, 10**9]).astype(int))\n",
    "pandas_df.RGROW = (pandas_df.RGROW.replace(r'[KMG]+$', '', regex=True).astype(float) * pandas_df.RGROW.str.extract(r'[\\d\\.]+([KMG]+)', expand=False).fillna(1).replace(['K','M', 'G'], [10**3, 10**6, 10**9]).astype(int))"
   ]
  },
  {
   "cell_type": "code",
   "execution_count": 18,
   "metadata": {},
   "outputs": [],
   "source": [
    "memory_df = spark.createDataFrame(pandas_df)"
   ]
  },
  {
   "cell_type": "code",
   "execution_count": 19,
   "metadata": {},
   "outputs": [],
   "source": [
    "#the cleaned memory data is put into another variable\n",
    "memory_clean = memory_df"
   ]
  },
  {
   "cell_type": "code",
   "execution_count": 20,
   "metadata": {},
   "outputs": [
    {
     "name": "stdout",
     "output_type": "stream",
     "text": [
      "root\n",
      " |-- ts: long (nullable = true)\n",
      " |-- PID: long (nullable = true)\n",
      " |-- MINFLT: double (nullable = true)\n",
      " |-- MAJFLT: double (nullable = true)\n",
      " |-- VSTEXT: double (nullable = true)\n",
      " |-- VSIZE: double (nullable = true)\n",
      " |-- RSIZE: double (nullable = true)\n",
      " |-- VGROW: double (nullable = true)\n",
      " |-- RGROW: double (nullable = true)\n",
      " |-- MEM: double (nullable = true)\n",
      " |-- CMD: string (nullable = true)\n",
      " |-- attack: long (nullable = true)\n",
      " |-- type: string (nullable = true)\n",
      "\n"
     ]
    }
   ],
   "source": [
    "memory_clean.printSchema()"
   ]
  },
  {
   "cell_type": "markdown",
   "metadata": {},
   "source": [
    "## 1.3 Exploring the data\n",
    "##### 1. Show the count of attack and non-attack in each activity based on the column “attack”, then show the count of each kind of attack in process activity based on the column “type”.\n",
    "##### ○ Do you see any class imbalance? Examine and describe what you observe"
   ]
  },
  {
   "cell_type": "code",
   "execution_count": 21,
   "metadata": {},
   "outputs": [
    {
     "name": "stdout",
     "output_type": "stream",
     "text": [
      "+------+-------+\n",
      "|attack|  count|\n",
      "+------+-------+\n",
      "|     0|1794377|\n",
      "|     1| 205623|\n",
      "+------+-------+\n",
      "\n"
     ]
    }
   ],
   "source": [
    "#instances target variable has\n",
    "memory_clean.groupBy('attack').count().show()"
   ]
  },
  {
   "cell_type": "code",
   "execution_count": 22,
   "metadata": {
    "scrolled": true
   },
   "outputs": [
    {
     "name": "stdout",
     "output_type": "stream",
     "text": [
      "+------+-------+\n",
      "|attack|  count|\n",
      "+------+-------+\n",
      "|     1| 291364|\n",
      "|     0|1636604|\n",
      "+------+-------+\n",
      "\n"
     ]
    }
   ],
   "source": [
    "process_df.groupBy('attack').count().show()"
   ]
  },
  {
   "cell_type": "markdown",
   "metadata": {},
   "source": [
    "##### DESCRIPTION:\n",
    "Ideally, the data points available for the classes should be around 50% if there are two classes. Here, class imbalance can be seen i.e. the number of data points available for different classes is different. \n",
    "It can be observed that the data points for non-attack i.e. attack=0 are way more than the data points for attack where attack=1 ."
   ]
  },
  {
   "cell_type": "code",
   "execution_count": 23,
   "metadata": {},
   "outputs": [
    {
     "name": "stdout",
     "output_type": "stream",
     "text": [
      "+---------+-------+\n",
      "|     type|  count|\n",
      "+---------+-------+\n",
      "| password|  26016|\n",
      "|     ddos|  45689|\n",
      "|   normal|1794377|\n",
      "|     mitm|    112|\n",
      "|injection|  58523|\n",
      "|      dos|  75283|\n",
      "+---------+-------+\n",
      "\n"
     ]
    }
   ],
   "source": [
    "memory_clean.groupBy('type').count().show()"
   ]
  },
  {
   "cell_type": "code",
   "execution_count": 24,
   "metadata": {},
   "outputs": [
    {
     "name": "stdout",
     "output_type": "stream",
     "text": [
      "+---------+-------+\n",
      "|     type|  count|\n",
      "+---------+-------+\n",
      "|      xss|  17759|\n",
      "| password|  51409|\n",
      "| scanning|  38449|\n",
      "|     ddos|  71603|\n",
      "|   normal|1636604|\n",
      "|     mitm|    112|\n",
      "|injection|  41311|\n",
      "|      dos|  70721|\n",
      "+---------+-------+\n",
      "\n"
     ]
    }
   ],
   "source": [
    "process_df.groupBy('type').count().show()"
   ]
  },
  {
   "cell_type": "markdown",
   "metadata": {},
   "source": [
    "##### DESCRIPTION:\n",
    "As from the above two tables, it can be seen that the \"normal\" type represents non-attack i.e. attack=0 and the rest of the columns show the type of attack for attack=1. \n",
    "This can be said because the count of \"normal\" type of attack is exact same as the count of non-attacks for the two use cases i.e. memory and process."
   ]
  },
  {
   "cell_type": "markdown",
   "metadata": {},
   "source": [
    "##### 2. For each numeric feature in each activity, show the basic statistics (including count, mean, stddev, min, max); for each non-numeric feature in each activity, display the top-10 values and the corresponding counts.\n",
    "##### ○ No need to show the labels at “attack” or “type” column"
   ]
  },
  {
   "cell_type": "code",
   "execution_count": 25,
   "metadata": {},
   "outputs": [
    {
     "name": "stdout",
     "output_type": "stream",
     "text": [
      "+-------+------------------+-----------------+-----------------+--------------------+------------------+-----------------+------------------+-----------------+------------------+--------------------+\n",
      "|summary|                ts|              PID|           MINFLT|              MAJFLT|            VSTEXT|            VSIZE|             RSIZE|            VGROW|             RGROW|                 MEM|\n",
      "+-------+------------------+-----------------+-----------------+--------------------+------------------+-----------------+------------------+-----------------+------------------+--------------------+\n",
      "|  count|           2000000|          2000000|          2000000|             2000000|           2000000|          2000000|           2000000|          2000000|           2000000|             2000000|\n",
      "|   mean|1.55624581707609E9|      4999.360446|       983.344344|   987846.5873272612|46453.274152098085| 4496.41996644669|23722.888664202434|984.4668735599992|483.17466255000016|0.003385165000006418|\n",
      "| stddev| 984463.3683130427|4887.313351921478|19229.61098064232|1.4842874238099033E7| 658730.2051543023|9046.338093398968|1986383.1808735076| 86174.8258520222|1491.4761059172117|0.010943425779985656|\n",
      "|    min|        1554216855|             1007|              0.0|                 0.0|               0.0|              0.0|           -9728.0|       -9392000.0|               0.0|                 0.0|\n",
      "|    max|        1558355716|            53096|        8050000.0|             2.244E8|            1.12E7|          88040.0|           2.244E8|          1.116E7|           98920.0|                0.44|\n",
      "+-------+------------------+-----------------+-----------------+--------------------+------------------+-----------------+------------------+-----------------+------------------+--------------------+\n",
      "\n"
     ]
    }
   ],
   "source": [
    "#Summary Statistics\n",
    "num = ['ts', 'PID', 'MINFLT', 'MAJFLT', 'VSTEXT', 'VSIZE', 'RSIZE', 'VGROW', 'RGROW', 'MEM']\n",
    "df = memory_clean[num]\n",
    "df.describe().show()"
   ]
  },
  {
   "cell_type": "code",
   "execution_count": 26,
   "metadata": {},
   "outputs": [
    {
     "name": "stdout",
     "output_type": "stream",
     "text": [
      "+--------------+-----+\n",
      "|           CMD|count|\n",
      "+--------------+-----+\n",
      "|        <kmod>|    6|\n",
      "|         jfsIO|13619|\n",
      "|kworker/4:2-mm|  147|\n",
      "|     <dumpcap>|   18|\n",
      "|        <fsck>|  192|\n",
      "|    <basename>|   45|\n",
      "|<kworker/dyin>|  603|\n",
      "|<rsyslog-rota>|    3|\n",
      "|ibus-extension| 5788|\n",
      "|       <iconv>|    1|\n",
      "+--------------+-----+\n",
      "only showing top 10 rows\n",
      "\n"
     ]
    }
   ],
   "source": [
    "col=['CMD']\n",
    "df = memory_clean[col]\n",
    "df.groupBy('CMD').count().show(10)"
   ]
  },
  {
   "cell_type": "code",
   "execution_count": 28,
   "metadata": {},
   "outputs": [],
   "source": [
    "num_cols = ['ts','PID','TRUN','TSLPI','TSLPU','NICE','PRI','RTPR','CPUNR','EXC','CPU']#numerical columns of process activity"
   ]
  },
  {
   "cell_type": "code",
   "execution_count": 29,
   "metadata": {},
   "outputs": [
    {
     "name": "stdout",
     "output_type": "stream",
     "text": [
      "+-------+--------------------+-----------------+------------------+-----------------+--------------------+-----------------+------------------+-------+------------------+--------------------+--------------------+\n",
      "|summary|                  ts|              PID|              TRUN|            TSLPI|               TSLPU|             NICE|               PRI|   RTPR|             CPUNR|                 EXC|                 CPU|\n",
      "+-------+--------------------+-----------------+------------------+-----------------+--------------------+-----------------+------------------+-------+------------------+--------------------+--------------------+\n",
      "|  count|             1927968|          1927968|           1927968|          1927968|             1927968|          1927968|           1927968|1927968|           1927968|             1927968|             1415594|\n",
      "|   mean|1.5563198311840394E9|5068.709770597852|0.0632287465352122|3.508334163222626|3.610018423542299...|4.634469555511295|111.26826741937626|    0.0|1.9210142491991569|0.030275398761805176|0.002704165177303662|\n",
      "| stddev|   771350.0247982068|4987.784329320426|0.2478258709041596|6.988459728531847|0.044218744192145894|8.403189864752113| 22.62444506210287|    0.0|1.5274047225902962|  1.4619498567691998|0.054233523850388925|\n",
      "|    min|          1554216855|             1007|                 0|                0|                   0|                0|                 0|      0|                 0|                   0|                   0|\n",
      "|    max|          1557593017|            53080|                12|               70|                  21|               20|               139|      0|                 5|                 127|                   4|\n",
      "+-------+--------------------+-----------------+------------------+-----------------+--------------------+-----------------+------------------+-------+------------------+--------------------+--------------------+\n",
      "\n"
     ]
    }
   ],
   "source": [
    "num_df = process_df[num_cols]\n",
    "num_df.describe().show()"
   ]
  },
  {
   "cell_type": "code",
   "execution_count": 30,
   "metadata": {},
   "outputs": [],
   "source": [
    "from pyspark.sql.functions import desc"
   ]
  },
  {
   "cell_type": "code",
   "execution_count": 31,
   "metadata": {},
   "outputs": [
    {
     "name": "stdout",
     "output_type": "stream",
     "text": [
      "+----+-------+\n",
      "|POLI|  count|\n",
      "+----+-------+\n",
      "|norm|1861558|\n",
      "|   0|  53216|\n",
      "|   -|  13194|\n",
      "+----+-------+\n",
      "\n"
     ]
    }
   ],
   "source": [
    "non_num_cols = ['POLI','Status','State','CMD'] # categorical variables of process\n",
    "non_num_df = process_df[non_num_cols]\n",
    "non_num_df.groupBy('POLI').count().sort(desc(\"count\")).show(10)"
   ]
  },
  {
   "cell_type": "code",
   "execution_count": 32,
   "metadata": {},
   "outputs": [
    {
     "name": "stdout",
     "output_type": "stream",
     "text": [
      "+------+-------+\n",
      "|Status|  count|\n",
      "+------+-------+\n",
      "|     -|1416322|\n",
      "|     0| 438984|\n",
      "|    NE|  48602|\n",
      "|     N|  23313|\n",
      "|    NS|    743|\n",
      "|     C|      3|\n",
      "|    NC|      1|\n",
      "+------+-------+\n",
      "\n"
     ]
    }
   ],
   "source": [
    "non_num_df.groupBy('Status').count().sort(desc(\"count\")).show(10)"
   ]
  },
  {
   "cell_type": "code",
   "execution_count": 33,
   "metadata": {},
   "outputs": [
    {
     "name": "stdout",
     "output_type": "stream",
     "text": [
      "+-----+-------+\n",
      "|State|  count|\n",
      "+-----+-------+\n",
      "|    S|1676350|\n",
      "|    I|  98986|\n",
      "|    R|  84753|\n",
      "|    E|  66410|\n",
      "|    Z|   1118|\n",
      "|    D|    344|\n",
      "|    T|      7|\n",
      "+-----+-------+\n",
      "\n"
     ]
    }
   ],
   "source": [
    "non_num_df.groupBy('State').count().sort(desc(\"count\")).show(10)"
   ]
  },
  {
   "cell_type": "code",
   "execution_count": 34,
   "metadata": {},
   "outputs": [
    {
     "name": "stdout",
     "output_type": "stream",
     "text": [
      "+--------------+------+\n",
      "|           CMD| count|\n",
      "+--------------+------+\n",
      "|          atop|441180|\n",
      "|       apache2|313143|\n",
      "|      vmtoolsd|112029|\n",
      "|          Xorg| 66813|\n",
      "|      nautilus| 63449|\n",
      "|gnome-terminal| 47628|\n",
      "|        compiz| 44386|\n",
      "|    irqbalance| 44324|\n",
      "|      ostinato| 42979|\n",
      "|         drone| 41390|\n",
      "+--------------+------+\n",
      "only showing top 10 rows\n",
      "\n"
     ]
    }
   ],
   "source": [
    "non_num_df.groupBy('CMD').count().sort(desc(\"count\")).show(10)"
   ]
  },
  {
   "cell_type": "markdown",
   "metadata": {},
   "source": [
    "##### 3. For each activity, present two plots worthy of presenting to the StopHacking company, describe your plots and discuss the findings from the plots"
   ]
  },
  {
   "cell_type": "code",
   "execution_count": 35,
   "metadata": {},
   "outputs": [],
   "source": [
    "#Due to latency issues, a very small sample of the data is taken\n",
    "#taking a sample of the data as the data is very large to be plotted\n",
    "newSample = memory_clean.sample(False, 0.002) #sample of memory_df"
   ]
  },
  {
   "cell_type": "code",
   "execution_count": 36,
   "metadata": {},
   "outputs": [],
   "source": [
    "sample_df = newSample.select(\"*\").toPandas()"
   ]
  },
  {
   "cell_type": "code",
   "execution_count": 37,
   "metadata": {},
   "outputs": [],
   "source": [
    "processSample = process_df.sample(False, 0.002)#sample of process_df"
   ]
  },
  {
   "cell_type": "code",
   "execution_count": 38,
   "metadata": {},
   "outputs": [],
   "source": [
    "process_sample_df = processSample.select(\"*\").toPandas()"
   ]
  },
  {
   "cell_type": "markdown",
   "metadata": {},
   "source": [
    "#### MEMORY ACTIVITY"
   ]
  },
  {
   "cell_type": "code",
   "execution_count": 39,
   "metadata": {},
   "outputs": [
    {
     "data": {
      "text/plain": [
       "Text(0.5, 1.0, 'Correlation Matrix')"
      ]
     },
     "execution_count": 39,
     "metadata": {},
     "output_type": "execute_result"
    },
    {
     "data": {
      "image/png": "[encoded data removed]",
      "text/plain": [
       "<Figure size 576x432 with 2 Axes>"
      ]
     },
     "metadata": {
      "needs_background": "light"
     },
     "output_type": "display_data"
    }
   ],
   "source": [
    "#memory_df\n",
    "f = plt.figure(figsize=(8, 6))\n",
    "corr=sample_df.corr()\n",
    "plt.matshow(corr, fignum=f.number)\n",
    "plt.xticks(range(corr.shape[1]), corr.columns, fontsize=14, rotation=45)\n",
    "plt.yticks(range(corr.shape[1]), corr.columns, fontsize=14)\n",
    "cb = plt.colorbar()\n",
    "cb.ax.tick_params(labelsize=14)\n",
    "plt.title('Correlation Matrix', fontsize=16)"
   ]
  },
  {
   "cell_type": "markdown",
   "metadata": {},
   "source": [
    "##### DESCRIPTION:\n",
    "The correlation matrix shown above tells about the correlation between variables by plotting the correlation coefficients.\n",
    "On the right hand side you have the scale which is colored from purple (negative correlation) to yellow (positive correlation). The color follows a gradient according to the strength of the correlation.\n",
    "A high correlation of attack can be seen with MINFLT, MAJFLT, VSTEXT, RSIZE as they are the lightest in color as compared to the other variables' correlation with attack.\n",
    "\n",
    "\n",
    "\n",
    "#### References:\n",
    "* Pearson's Correlation Coefficient - Statistics Solutions. (2020). Retrieved 3 October 2020, from https://www.statisticssolutions.com/pearsons-correlation-coefficient/\n",
    "\n",
    "* How do I interpret the output of corrplot?. (2020). Retrieved 3 October 2020, from https://stackoverflow.com/questions/24298793/how-do-i-interpret-the-output-of-corrplot"
   ]
  },
  {
   "cell_type": "code",
   "execution_count": 40,
   "metadata": {
    "scrolled": true
   },
   "outputs": [
    {
     "data": {
      "text/plain": [
       "Text(0.5, 0, 'attack')"
      ]
     },
     "execution_count": 40,
     "metadata": {},
     "output_type": "execute_result"
    },
    {
     "data": {
      "image/png": "[encoded data removed]",
      "text/plain": [
       "<Figure size 360x360 with 1 Axes>"
      ]
     },
     "metadata": {
      "needs_background": "light"
     },
     "output_type": "display_data"
    }
   ],
   "source": [
    "fig = plt.figure(figsize = (5, 5)) \n",
    "  \n",
    "# creating the bar plot \n",
    "plt.bar(sample_df['attack'], sample_df['RGROW'], color ='red', width = 0.4)\n",
    "plt.xticks(np.arange(0, 2, 1))\n",
    "plt.ylabel('RGROW')\n",
    "plt.xlabel('attack')"
   ]
  },
  {
   "cell_type": "markdown",
   "metadata": {},
   "source": [
    "#### DESCRIPTION:\n",
    "The bar graph shown above tells about the relation of attack with respect to RGROW column. There is a high imbalance in the values showing attack and non-attack i.e. 1 and 0. When we see such difference in values, it can't be clearly said that this particular column can help in predicting whether it is an attack or a non-attack condition more effectively.\n",
    "Thus from the above graph we can infer that the RGROW column has one of the lowest correlation with the attack column in comparison to others."
   ]
  },
  {
   "cell_type": "markdown",
   "metadata": {},
   "source": [
    "#### PROCESS ACTIVITY"
   ]
  },
  {
   "cell_type": "code",
   "execution_count": 41,
   "metadata": {},
   "outputs": [
    {
     "name": "stderr",
     "output_type": "stream",
     "text": [
      "/home/student/.local/lib/python3.8/site-packages/pandas/io/formats/style.py:1089: RuntimeWarning: All-NaN slice encountered\n",
      "  smin = np.nanmin(s.to_numpy()) if vmin is None else vmin\n",
      "/home/student/.local/lib/python3.8/site-packages/pandas/io/formats/style.py:1090: RuntimeWarning: All-NaN slice encountered\n",
      "  smax = np.nanmax(s.to_numpy()) if vmax is None else vmax\n"
     ]
    },
    {
     "data": {
      "text/html": [
       "<style  type=\"text/css\" >\n",
       "    #T_76a7cb58_063e_11eb_94ac_3f598090f73erow0_col0 {\n",
       "            background-color:  #b40426;\n",
       "            color:  #f1f1f1;\n",
       "        }    #T_76a7cb58_063e_11eb_94ac_3f598090f73erow0_col1 {\n",
       "            background-color:  #779af7;\n",
       "            color:  #000000;\n",
       "        }    #T_76a7cb58_063e_11eb_94ac_3f598090f73erow0_col2 {\n",
       "            background-color:  #455cce;\n",
       "            color:  #f1f1f1;\n",
       "        }    #T_76a7cb58_063e_11eb_94ac_3f598090f73erow0_col3 {\n",
       "            background-color:  #7295f4;\n",
       "            color:  #000000;\n",
       "        }    #T_76a7cb58_063e_11eb_94ac_3f598090f73erow0_col4 {\n",
       "            background-color:  #000000;\n",
       "            color:  #f1f1f1;\n",
       "        }    #T_76a7cb58_063e_11eb_94ac_3f598090f73erow0_col5 {\n",
       "            background-color:  #6c8ff1;\n",
       "            color:  #000000;\n",
       "        }    #T_76a7cb58_063e_11eb_94ac_3f598090f73erow0_col6 {\n",
       "            background-color:  #96b7ff;\n",
       "            color:  #000000;\n",
       "        }    #T_76a7cb58_063e_11eb_94ac_3f598090f73erow0_col7 {\n",
       "            background-color:  #000000;\n",
       "            color:  #f1f1f1;\n",
       "        }    #T_76a7cb58_063e_11eb_94ac_3f598090f73erow0_col8 {\n",
       "            background-color:  #90b2fe;\n",
       "            color:  #000000;\n",
       "        }    #T_76a7cb58_063e_11eb_94ac_3f598090f73erow0_col9 {\n",
       "            background-color:  #5e7de7;\n",
       "            color:  #000000;\n",
       "        }    #T_76a7cb58_063e_11eb_94ac_3f598090f73erow0_col10 {\n",
       "            background-color:  #445acc;\n",
       "            color:  #f1f1f1;\n",
       "        }    #T_76a7cb58_063e_11eb_94ac_3f598090f73erow0_col11 {\n",
       "            background-color:  #5673e0;\n",
       "            color:  #000000;\n",
       "        }    #T_76a7cb58_063e_11eb_94ac_3f598090f73erow1_col0 {\n",
       "            background-color:  #5572df;\n",
       "            color:  #000000;\n",
       "        }    #T_76a7cb58_063e_11eb_94ac_3f598090f73erow1_col1 {\n",
       "            background-color:  #b40426;\n",
       "            color:  #f1f1f1;\n",
       "        }    #T_76a7cb58_063e_11eb_94ac_3f598090f73erow1_col2 {\n",
       "            background-color:  #3b4cc0;\n",
       "            color:  #f1f1f1;\n",
       "        }    #T_76a7cb58_063e_11eb_94ac_3f598090f73erow1_col3 {\n",
       "            background-color:  #4055c8;\n",
       "            color:  #f1f1f1;\n",
       "        }    #T_76a7cb58_063e_11eb_94ac_3f598090f73erow1_col4 {\n",
       "            background-color:  #000000;\n",
       "            color:  #f1f1f1;\n",
       "        }    #T_76a7cb58_063e_11eb_94ac_3f598090f73erow1_col5 {\n",
       "            background-color:  #5470de;\n",
       "            color:  #000000;\n",
       "        }    #T_76a7cb58_063e_11eb_94ac_3f598090f73erow1_col6 {\n",
       "            background-color:  #506bda;\n",
       "            color:  #000000;\n",
       "        }    #T_76a7cb58_063e_11eb_94ac_3f598090f73erow1_col7 {\n",
       "            background-color:  #000000;\n",
       "            color:  #f1f1f1;\n",
       "        }    #T_76a7cb58_063e_11eb_94ac_3f598090f73erow1_col8 {\n",
       "            background-color:  #7597f6;\n",
       "            color:  #000000;\n",
       "        }    #T_76a7cb58_063e_11eb_94ac_3f598090f73erow1_col9 {\n",
       "            background-color:  #6180e9;\n",
       "            color:  #000000;\n",
       "        }    #T_76a7cb58_063e_11eb_94ac_3f598090f73erow1_col10 {\n",
       "            background-color:  #4358cb;\n",
       "            color:  #f1f1f1;\n",
       "        }    #T_76a7cb58_063e_11eb_94ac_3f598090f73erow1_col11 {\n",
       "            background-color:  #4055c8;\n",
       "            color:  #f1f1f1;\n",
       "        }    #T_76a7cb58_063e_11eb_94ac_3f598090f73erow2_col0 {\n",
       "            background-color:  #3f53c6;\n",
       "            color:  #f1f1f1;\n",
       "        }    #T_76a7cb58_063e_11eb_94ac_3f598090f73erow2_col1 {\n",
       "            background-color:  #5875e1;\n",
       "            color:  #000000;\n",
       "        }    #T_76a7cb58_063e_11eb_94ac_3f598090f73erow2_col2 {\n",
       "            background-color:  #b40426;\n",
       "            color:  #f1f1f1;\n",
       "        }    #T_76a7cb58_063e_11eb_94ac_3f598090f73erow2_col3 {\n",
       "            background-color:  #7396f5;\n",
       "            color:  #000000;\n",
       "        }    #T_76a7cb58_063e_11eb_94ac_3f598090f73erow2_col4 {\n",
       "            background-color:  #000000;\n",
       "            color:  #f1f1f1;\n",
       "        }    #T_76a7cb58_063e_11eb_94ac_3f598090f73erow2_col5 {\n",
       "            background-color:  #bbd1f8;\n",
       "            color:  #000000;\n",
       "        }    #T_76a7cb58_063e_11eb_94ac_3f598090f73erow2_col6 {\n",
       "            background-color:  #7093f3;\n",
       "            color:  #000000;\n",
       "        }    #T_76a7cb58_063e_11eb_94ac_3f598090f73erow2_col7 {\n",
       "            background-color:  #000000;\n",
       "            color:  #f1f1f1;\n",
       "        }    #T_76a7cb58_063e_11eb_94ac_3f598090f73erow2_col8 {\n",
       "            background-color:  #4961d2;\n",
       "            color:  #f1f1f1;\n",
       "        }    #T_76a7cb58_063e_11eb_94ac_3f598090f73erow2_col9 {\n",
       "            background-color:  #5f7fe8;\n",
       "            color:  #000000;\n",
       "        }    #T_76a7cb58_063e_11eb_94ac_3f598090f73erow2_col10 {\n",
       "            background-color:  #b1cbfc;\n",
       "            color:  #000000;\n",
       "        }    #T_76a7cb58_063e_11eb_94ac_3f598090f73erow2_col11 {\n",
       "            background-color:  #4a63d3;\n",
       "            color:  #f1f1f1;\n",
       "        }    #T_76a7cb58_063e_11eb_94ac_3f598090f73erow3_col0 {\n",
       "            background-color:  #4961d2;\n",
       "            color:  #f1f1f1;\n",
       "        }    #T_76a7cb58_063e_11eb_94ac_3f598090f73erow3_col1 {\n",
       "            background-color:  #3b4cc0;\n",
       "            color:  #f1f1f1;\n",
       "        }    #T_76a7cb58_063e_11eb_94ac_3f598090f73erow3_col2 {\n",
       "            background-color:  #506bda;\n",
       "            color:  #000000;\n",
       "        }    #T_76a7cb58_063e_11eb_94ac_3f598090f73erow3_col3 {\n",
       "            background-color:  #b40426;\n",
       "            color:  #f1f1f1;\n",
       "        }    #T_76a7cb58_063e_11eb_94ac_3f598090f73erow3_col4 {\n",
       "            background-color:  #000000;\n",
       "            color:  #f1f1f1;\n",
       "        }    #T_76a7cb58_063e_11eb_94ac_3f598090f73erow3_col5 {\n",
       "            background-color:  #4358cb;\n",
       "            color:  #f1f1f1;\n",
       "        }    #T_76a7cb58_063e_11eb_94ac_3f598090f73erow3_col6 {\n",
       "            background-color:  #abc8fd;\n",
       "            color:  #000000;\n",
       "        }    #T_76a7cb58_063e_11eb_94ac_3f598090f73erow3_col7 {\n",
       "            background-color:  #000000;\n",
       "            color:  #f1f1f1;\n",
       "        }    #T_76a7cb58_063e_11eb_94ac_3f598090f73erow3_col8 {\n",
       "            background-color:  #6c8ff1;\n",
       "            color:  #000000;\n",
       "        }    #T_76a7cb58_063e_11eb_94ac_3f598090f73erow3_col9 {\n",
       "            background-color:  #5d7ce6;\n",
       "            color:  #000000;\n",
       "        }    #T_76a7cb58_063e_11eb_94ac_3f598090f73erow3_col10 {\n",
       "            background-color:  #536edd;\n",
       "            color:  #000000;\n",
       "        }    #T_76a7cb58_063e_11eb_94ac_3f598090f73erow3_col11 {\n",
       "            background-color:  #6180e9;\n",
       "            color:  #000000;\n",
       "        }    #T_76a7cb58_063e_11eb_94ac_3f598090f73erow4_col0 {\n",
       "            background-color:  #000000;\n",
       "            color:  #f1f1f1;\n",
       "        }    #T_76a7cb58_063e_11eb_94ac_3f598090f73erow4_col1 {\n",
       "            background-color:  #000000;\n",
       "            color:  #f1f1f1;\n",
       "        }    #T_76a7cb58_063e_11eb_94ac_3f598090f73erow4_col2 {\n",
       "            background-color:  #000000;\n",
       "            color:  #f1f1f1;\n",
       "        }    #T_76a7cb58_063e_11eb_94ac_3f598090f73erow4_col3 {\n",
       "            background-color:  #000000;\n",
       "            color:  #f1f1f1;\n",
       "        }    #T_76a7cb58_063e_11eb_94ac_3f598090f73erow4_col4 {\n",
       "            background-color:  #000000;\n",
       "            color:  #f1f1f1;\n",
       "        }    #T_76a7cb58_063e_11eb_94ac_3f598090f73erow4_col5 {\n",
       "            background-color:  #000000;\n",
       "            color:  #f1f1f1;\n",
       "        }    #T_76a7cb58_063e_11eb_94ac_3f598090f73erow4_col6 {\n",
       "            background-color:  #000000;\n",
       "            color:  #f1f1f1;\n",
       "        }    #T_76a7cb58_063e_11eb_94ac_3f598090f73erow4_col7 {\n",
       "            background-color:  #000000;\n",
       "            color:  #f1f1f1;\n",
       "        }    #T_76a7cb58_063e_11eb_94ac_3f598090f73erow4_col8 {\n",
       "            background-color:  #000000;\n",
       "            color:  #f1f1f1;\n",
       "        }    #T_76a7cb58_063e_11eb_94ac_3f598090f73erow4_col9 {\n",
       "            background-color:  #000000;\n",
       "            color:  #f1f1f1;\n",
       "        }    #T_76a7cb58_063e_11eb_94ac_3f598090f73erow4_col10 {\n",
       "            background-color:  #000000;\n",
       "            color:  #f1f1f1;\n",
       "        }    #T_76a7cb58_063e_11eb_94ac_3f598090f73erow4_col11 {\n",
       "            background-color:  #000000;\n",
       "            color:  #f1f1f1;\n",
       "        }    #T_76a7cb58_063e_11eb_94ac_3f598090f73erow5_col0 {\n",
       "            background-color:  #3b4cc0;\n",
       "            color:  #f1f1f1;\n",
       "        }    #T_76a7cb58_063e_11eb_94ac_3f598090f73erow5_col1 {\n",
       "            background-color:  #445acc;\n",
       "            color:  #f1f1f1;\n",
       "        }    #T_76a7cb58_063e_11eb_94ac_3f598090f73erow5_col2 {\n",
       "            background-color:  #98b9ff;\n",
       "            color:  #000000;\n",
       "        }    #T_76a7cb58_063e_11eb_94ac_3f598090f73erow5_col3 {\n",
       "            background-color:  #3b4cc0;\n",
       "            color:  #f1f1f1;\n",
       "        }    #T_76a7cb58_063e_11eb_94ac_3f598090f73erow5_col4 {\n",
       "            background-color:  #000000;\n",
       "            color:  #f1f1f1;\n",
       "        }    #T_76a7cb58_063e_11eb_94ac_3f598090f73erow5_col5 {\n",
       "            background-color:  #b40426;\n",
       "            color:  #f1f1f1;\n",
       "        }    #T_76a7cb58_063e_11eb_94ac_3f598090f73erow5_col6 {\n",
       "            background-color:  #3b4cc0;\n",
       "            color:  #f1f1f1;\n",
       "        }    #T_76a7cb58_063e_11eb_94ac_3f598090f73erow5_col7 {\n",
       "            background-color:  #000000;\n",
       "            color:  #f1f1f1;\n",
       "        }    #T_76a7cb58_063e_11eb_94ac_3f598090f73erow5_col8 {\n",
       "            background-color:  #3b4cc0;\n",
       "            color:  #f1f1f1;\n",
       "        }    #T_76a7cb58_063e_11eb_94ac_3f598090f73erow5_col9 {\n",
       "            background-color:  #5d7ce6;\n",
       "            color:  #000000;\n",
       "        }    #T_76a7cb58_063e_11eb_94ac_3f598090f73erow5_col10 {\n",
       "            background-color:  #485fd1;\n",
       "            color:  #f1f1f1;\n",
       "        }    #T_76a7cb58_063e_11eb_94ac_3f598090f73erow5_col11 {\n",
       "            background-color:  #3b4cc0;\n",
       "            color:  #f1f1f1;\n",
       "        }    #T_76a7cb58_063e_11eb_94ac_3f598090f73erow6_col0 {\n",
       "            background-color:  #6687ed;\n",
       "            color:  #000000;\n",
       "        }    #T_76a7cb58_063e_11eb_94ac_3f598090f73erow6_col1 {\n",
       "            background-color:  #4055c8;\n",
       "            color:  #f1f1f1;\n",
       "        }    #T_76a7cb58_063e_11eb_94ac_3f598090f73erow6_col2 {\n",
       "            background-color:  #445acc;\n",
       "            color:  #f1f1f1;\n",
       "        }    #T_76a7cb58_063e_11eb_94ac_3f598090f73erow6_col3 {\n",
       "            background-color:  #a3c2fe;\n",
       "            color:  #000000;\n",
       "        }    #T_76a7cb58_063e_11eb_94ac_3f598090f73erow6_col4 {\n",
       "            background-color:  #000000;\n",
       "            color:  #f1f1f1;\n",
       "        }    #T_76a7cb58_063e_11eb_94ac_3f598090f73erow6_col5 {\n",
       "            background-color:  #3b4cc0;\n",
       "            color:  #f1f1f1;\n",
       "        }    #T_76a7cb58_063e_11eb_94ac_3f598090f73erow6_col6 {\n",
       "            background-color:  #b40426;\n",
       "            color:  #f1f1f1;\n",
       "        }    #T_76a7cb58_063e_11eb_94ac_3f598090f73erow6_col7 {\n",
       "            background-color:  #000000;\n",
       "            color:  #f1f1f1;\n",
       "        }    #T_76a7cb58_063e_11eb_94ac_3f598090f73erow6_col8 {\n",
       "            background-color:  #aec9fc;\n",
       "            color:  #000000;\n",
       "        }    #T_76a7cb58_063e_11eb_94ac_3f598090f73erow6_col9 {\n",
       "            background-color:  #3b4cc0;\n",
       "            color:  #f1f1f1;\n",
       "        }    #T_76a7cb58_063e_11eb_94ac_3f598090f73erow6_col10 {\n",
       "            background-color:  #4a63d3;\n",
       "            color:  #f1f1f1;\n",
       "        }    #T_76a7cb58_063e_11eb_94ac_3f598090f73erow6_col11 {\n",
       "            background-color:  #4c66d6;\n",
       "            color:  #000000;\n",
       "        }    #T_76a7cb58_063e_11eb_94ac_3f598090f73erow7_col0 {\n",
       "            background-color:  #000000;\n",
       "            color:  #f1f1f1;\n",
       "        }    #T_76a7cb58_063e_11eb_94ac_3f598090f73erow7_col1 {\n",
       "            background-color:  #000000;\n",
       "            color:  #f1f1f1;\n",
       "        }    #T_76a7cb58_063e_11eb_94ac_3f598090f73erow7_col2 {\n",
       "            background-color:  #000000;\n",
       "            color:  #f1f1f1;\n",
       "        }    #T_76a7cb58_063e_11eb_94ac_3f598090f73erow7_col3 {\n",
       "            background-color:  #000000;\n",
       "            color:  #f1f1f1;\n",
       "        }    #T_76a7cb58_063e_11eb_94ac_3f598090f73erow7_col4 {\n",
       "            background-color:  #000000;\n",
       "            color:  #f1f1f1;\n",
       "        }    #T_76a7cb58_063e_11eb_94ac_3f598090f73erow7_col5 {\n",
       "            background-color:  #000000;\n",
       "            color:  #f1f1f1;\n",
       "        }    #T_76a7cb58_063e_11eb_94ac_3f598090f73erow7_col6 {\n",
       "            background-color:  #000000;\n",
       "            color:  #f1f1f1;\n",
       "        }    #T_76a7cb58_063e_11eb_94ac_3f598090f73erow7_col7 {\n",
       "            background-color:  #000000;\n",
       "            color:  #f1f1f1;\n",
       "        }    #T_76a7cb58_063e_11eb_94ac_3f598090f73erow7_col8 {\n",
       "            background-color:  #000000;\n",
       "            color:  #f1f1f1;\n",
       "        }    #T_76a7cb58_063e_11eb_94ac_3f598090f73erow7_col9 {\n",
       "            background-color:  #000000;\n",
       "            color:  #f1f1f1;\n",
       "        }    #T_76a7cb58_063e_11eb_94ac_3f598090f73erow7_col10 {\n",
       "            background-color:  #000000;\n",
       "            color:  #f1f1f1;\n",
       "        }    #T_76a7cb58_063e_11eb_94ac_3f598090f73erow7_col11 {\n",
       "            background-color:  #000000;\n",
       "            color:  #f1f1f1;\n",
       "        }    #T_76a7cb58_063e_11eb_94ac_3f598090f73erow8_col0 {\n",
       "            background-color:  #84a7fc;\n",
       "            color:  #000000;\n",
       "        }    #T_76a7cb58_063e_11eb_94ac_3f598090f73erow8_col1 {\n",
       "            background-color:  #89acfd;\n",
       "            color:  #000000;\n",
       "        }    #T_76a7cb58_063e_11eb_94ac_3f598090f73erow8_col2 {\n",
       "            background-color:  #4055c8;\n",
       "            color:  #f1f1f1;\n",
       "        }    #T_76a7cb58_063e_11eb_94ac_3f598090f73erow8_col3 {\n",
       "            background-color:  #88abfd;\n",
       "            color:  #000000;\n",
       "        }    #T_76a7cb58_063e_11eb_94ac_3f598090f73erow8_col4 {\n",
       "            background-color:  #000000;\n",
       "            color:  #f1f1f1;\n",
       "        }    #T_76a7cb58_063e_11eb_94ac_3f598090f73erow8_col5 {\n",
       "            background-color:  #5f7fe8;\n",
       "            color:  #000000;\n",
       "        }    #T_76a7cb58_063e_11eb_94ac_3f598090f73erow8_col6 {\n",
       "            background-color:  #c7d7f0;\n",
       "            color:  #000000;\n",
       "        }    #T_76a7cb58_063e_11eb_94ac_3f598090f73erow8_col7 {\n",
       "            background-color:  #000000;\n",
       "            color:  #f1f1f1;\n",
       "        }    #T_76a7cb58_063e_11eb_94ac_3f598090f73erow8_col8 {\n",
       "            background-color:  #b40426;\n",
       "            color:  #f1f1f1;\n",
       "        }    #T_76a7cb58_063e_11eb_94ac_3f598090f73erow8_col9 {\n",
       "            background-color:  #5673e0;\n",
       "            color:  #000000;\n",
       "        }    #T_76a7cb58_063e_11eb_94ac_3f598090f73erow8_col10 {\n",
       "            background-color:  #3b4cc0;\n",
       "            color:  #f1f1f1;\n",
       "        }    #T_76a7cb58_063e_11eb_94ac_3f598090f73erow8_col11 {\n",
       "            background-color:  #506bda;\n",
       "            color:  #000000;\n",
       "        }    #T_76a7cb58_063e_11eb_94ac_3f598090f73erow9_col0 {\n",
       "            background-color:  #445acc;\n",
       "            color:  #f1f1f1;\n",
       "        }    #T_76a7cb58_063e_11eb_94ac_3f598090f73erow9_col1 {\n",
       "            background-color:  #6a8bef;\n",
       "            color:  #000000;\n",
       "        }    #T_76a7cb58_063e_11eb_94ac_3f598090f73erow9_col2 {\n",
       "            background-color:  #4b64d5;\n",
       "            color:  #f1f1f1;\n",
       "        }    #T_76a7cb58_063e_11eb_94ac_3f598090f73erow9_col3 {\n",
       "            background-color:  #6e90f2;\n",
       "            color:  #000000;\n",
       "        }    #T_76a7cb58_063e_11eb_94ac_3f598090f73erow9_col4 {\n",
       "            background-color:  #000000;\n",
       "            color:  #f1f1f1;\n",
       "        }    #T_76a7cb58_063e_11eb_94ac_3f598090f73erow9_col5 {\n",
       "            background-color:  #7699f6;\n",
       "            color:  #000000;\n",
       "        }    #T_76a7cb58_063e_11eb_94ac_3f598090f73erow9_col6 {\n",
       "            background-color:  #5470de;\n",
       "            color:  #000000;\n",
       "        }    #T_76a7cb58_063e_11eb_94ac_3f598090f73erow9_col7 {\n",
       "            background-color:  #000000;\n",
       "            color:  #f1f1f1;\n",
       "        }    #T_76a7cb58_063e_11eb_94ac_3f598090f73erow9_col8 {\n",
       "            background-color:  #4b64d5;\n",
       "            color:  #f1f1f1;\n",
       "        }    #T_76a7cb58_063e_11eb_94ac_3f598090f73erow9_col9 {\n",
       "            background-color:  #b40426;\n",
       "            color:  #f1f1f1;\n",
       "        }    #T_76a7cb58_063e_11eb_94ac_3f598090f73erow9_col10 {\n",
       "            background-color:  #465ecf;\n",
       "            color:  #f1f1f1;\n",
       "        }    #T_76a7cb58_063e_11eb_94ac_3f598090f73erow9_col11 {\n",
       "            background-color:  #4b64d5;\n",
       "            color:  #f1f1f1;\n",
       "        }    #T_76a7cb58_063e_11eb_94ac_3f598090f73erow10_col0 {\n",
       "            background-color:  #455cce;\n",
       "            color:  #f1f1f1;\n",
       "        }    #T_76a7cb58_063e_11eb_94ac_3f598090f73erow10_col1 {\n",
       "            background-color:  #6687ed;\n",
       "            color:  #000000;\n",
       "        }    #T_76a7cb58_063e_11eb_94ac_3f598090f73erow10_col2 {\n",
       "            background-color:  #b6cefa;\n",
       "            color:  #000000;\n",
       "        }    #T_76a7cb58_063e_11eb_94ac_3f598090f73erow10_col3 {\n",
       "            background-color:  #7da0f9;\n",
       "            color:  #000000;\n",
       "        }    #T_76a7cb58_063e_11eb_94ac_3f598090f73erow10_col4 {\n",
       "            background-color:  #000000;\n",
       "            color:  #f1f1f1;\n",
       "        }    #T_76a7cb58_063e_11eb_94ac_3f598090f73erow10_col5 {\n",
       "            background-color:  #7b9ff9;\n",
       "            color:  #000000;\n",
       "        }    #T_76a7cb58_063e_11eb_94ac_3f598090f73erow10_col6 {\n",
       "            background-color:  #7ea1fa;\n",
       "            color:  #000000;\n",
       "        }    #T_76a7cb58_063e_11eb_94ac_3f598090f73erow10_col7 {\n",
       "            background-color:  #000000;\n",
       "            color:  #f1f1f1;\n",
       "        }    #T_76a7cb58_063e_11eb_94ac_3f598090f73erow10_col8 {\n",
       "            background-color:  #4961d2;\n",
       "            color:  #f1f1f1;\n",
       "        }    #T_76a7cb58_063e_11eb_94ac_3f598090f73erow10_col9 {\n",
       "            background-color:  #6180e9;\n",
       "            color:  #000000;\n",
       "        }    #T_76a7cb58_063e_11eb_94ac_3f598090f73erow10_col10 {\n",
       "            background-color:  #b40426;\n",
       "            color:  #f1f1f1;\n",
       "        }    #T_76a7cb58_063e_11eb_94ac_3f598090f73erow10_col11 {\n",
       "            background-color:  #4e68d8;\n",
       "            color:  #000000;\n",
       "        }    #T_76a7cb58_063e_11eb_94ac_3f598090f73erow11_col0 {\n",
       "            background-color:  #506bda;\n",
       "            color:  #000000;\n",
       "        }    #T_76a7cb58_063e_11eb_94ac_3f598090f73erow11_col1 {\n",
       "            background-color:  #5e7de7;\n",
       "            color:  #000000;\n",
       "        }    #T_76a7cb58_063e_11eb_94ac_3f598090f73erow11_col2 {\n",
       "            background-color:  #4a63d3;\n",
       "            color:  #f1f1f1;\n",
       "        }    #T_76a7cb58_063e_11eb_94ac_3f598090f73erow11_col3 {\n",
       "            background-color:  #84a7fc;\n",
       "            color:  #000000;\n",
       "        }    #T_76a7cb58_063e_11eb_94ac_3f598090f73erow11_col4 {\n",
       "            background-color:  #000000;\n",
       "            color:  #f1f1f1;\n",
       "        }    #T_76a7cb58_063e_11eb_94ac_3f598090f73erow11_col5 {\n",
       "            background-color:  #6788ee;\n",
       "            color:  #000000;\n",
       "        }    #T_76a7cb58_063e_11eb_94ac_3f598090f73erow11_col6 {\n",
       "            background-color:  #799cf8;\n",
       "            color:  #000000;\n",
       "        }    #T_76a7cb58_063e_11eb_94ac_3f598090f73erow11_col7 {\n",
       "            background-color:  #000000;\n",
       "            color:  #f1f1f1;\n",
       "        }    #T_76a7cb58_063e_11eb_94ac_3f598090f73erow11_col8 {\n",
       "            background-color:  #5875e1;\n",
       "            color:  #000000;\n",
       "        }    #T_76a7cb58_063e_11eb_94ac_3f598090f73erow11_col9 {\n",
       "            background-color:  #5e7de7;\n",
       "            color:  #000000;\n",
       "        }    #T_76a7cb58_063e_11eb_94ac_3f598090f73erow11_col10 {\n",
       "            background-color:  #465ecf;\n",
       "            color:  #f1f1f1;\n",
       "        }    #T_76a7cb58_063e_11eb_94ac_3f598090f73erow11_col11 {\n",
       "            background-color:  #b40426;\n",
       "            color:  #f1f1f1;\n",
       "        }</style><table id=\"T_76a7cb58_063e_11eb_94ac_3f598090f73e\" ><thead>    <tr>        <th class=\"blank level0\" ></th>        <th class=\"col_heading level0 col0\" >ts</th>        <th class=\"col_heading level0 col1\" >PID</th>        <th class=\"col_heading level0 col2\" >TRUN</th>        <th class=\"col_heading level0 col3\" >TSLPI</th>        <th class=\"col_heading level0 col4\" >TSLPU</th>        <th class=\"col_heading level0 col5\" >NICE</th>        <th class=\"col_heading level0 col6\" >PRI</th>        <th class=\"col_heading level0 col7\" >RTPR</th>        <th class=\"col_heading level0 col8\" >CPUNR</th>        <th class=\"col_heading level0 col9\" >EXC</th>        <th class=\"col_heading level0 col10\" >CPU</th>        <th class=\"col_heading level0 col11\" >attack</th>    </tr></thead><tbody>\n",
       "                <tr>\n",
       "                        <th id=\"T_76a7cb58_063e_11eb_94ac_3f598090f73elevel0_row0\" class=\"row_heading level0 row0\" >ts</th>\n",
       "                        <td id=\"T_76a7cb58_063e_11eb_94ac_3f598090f73erow0_col0\" class=\"data row0 col0\" >1.000000</td>\n",
       "                        <td id=\"T_76a7cb58_063e_11eb_94ac_3f598090f73erow0_col1\" class=\"data row0 col1\" >0.043482</td>\n",
       "                        <td id=\"T_76a7cb58_063e_11eb_94ac_3f598090f73erow0_col2\" class=\"data row0 col2\" >-0.029529</td>\n",
       "                        <td id=\"T_76a7cb58_063e_11eb_94ac_3f598090f73erow0_col3\" class=\"data row0 col3\" >0.002866</td>\n",
       "                        <td id=\"T_76a7cb58_063e_11eb_94ac_3f598090f73erow0_col4\" class=\"data row0 col4\" >nan</td>\n",
       "                        <td id=\"T_76a7cb58_063e_11eb_94ac_3f598090f73erow0_col5\" class=\"data row0 col5\" >-0.049121</td>\n",
       "                        <td id=\"T_76a7cb58_063e_11eb_94ac_3f598090f73erow0_col6\" class=\"data row0 col6\" >0.096663</td>\n",
       "                        <td id=\"T_76a7cb58_063e_11eb_94ac_3f598090f73erow0_col7\" class=\"data row0 col7\" >nan</td>\n",
       "                        <td id=\"T_76a7cb58_063e_11eb_94ac_3f598090f73erow0_col8\" class=\"data row0 col8\" >0.185519</td>\n",
       "                        <td id=\"T_76a7cb58_063e_11eb_94ac_3f598090f73erow0_col9\" class=\"data row0 col9\" >-0.012912</td>\n",
       "                        <td id=\"T_76a7cb58_063e_11eb_94ac_3f598090f73erow0_col10\" class=\"data row0 col10\" >-0.008898</td>\n",
       "                        <td id=\"T_76a7cb58_063e_11eb_94ac_3f598090f73erow0_col11\" class=\"data row0 col11\" >0.026634</td>\n",
       "            </tr>\n",
       "            <tr>\n",
       "                        <th id=\"T_76a7cb58_063e_11eb_94ac_3f598090f73elevel0_row1\" class=\"row_heading level0 row1\" >PID</th>\n",
       "                        <td id=\"T_76a7cb58_063e_11eb_94ac_3f598090f73erow1_col0\" class=\"data row1 col0\" >0.043482</td>\n",
       "                        <td id=\"T_76a7cb58_063e_11eb_94ac_3f598090f73erow1_col1\" class=\"data row1 col1\" >1.000000</td>\n",
       "                        <td id=\"T_76a7cb58_063e_11eb_94ac_3f598090f73erow1_col2\" class=\"data row1 col2\" >-0.070125</td>\n",
       "                        <td id=\"T_76a7cb58_063e_11eb_94ac_3f598090f73erow1_col3\" class=\"data row1 col3\" >-0.181866</td>\n",
       "                        <td id=\"T_76a7cb58_063e_11eb_94ac_3f598090f73erow1_col4\" class=\"data row1 col4\" >nan</td>\n",
       "                        <td id=\"T_76a7cb58_063e_11eb_94ac_3f598090f73erow1_col5\" class=\"data row1 col5\" >-0.141549</td>\n",
       "                        <td id=\"T_76a7cb58_063e_11eb_94ac_3f598090f73erow1_col6\" class=\"data row1 col6\" >-0.158533</td>\n",
       "                        <td id=\"T_76a7cb58_063e_11eb_94ac_3f598090f73erow1_col7\" class=\"data row1 col7\" >nan</td>\n",
       "                        <td id=\"T_76a7cb58_063e_11eb_94ac_3f598090f73erow1_col8\" class=\"data row1 col8\" >0.102534</td>\n",
       "                        <td id=\"T_76a7cb58_063e_11eb_94ac_3f598090f73erow1_col9\" class=\"data row1 col9\" >-0.002115</td>\n",
       "                        <td id=\"T_76a7cb58_063e_11eb_94ac_3f598090f73erow1_col10\" class=\"data row1 col10\" >-0.016316</td>\n",
       "                        <td id=\"T_76a7cb58_063e_11eb_94ac_3f598090f73erow1_col11\" class=\"data row1 col11\" >-0.046521</td>\n",
       "            </tr>\n",
       "            <tr>\n",
       "                        <th id=\"T_76a7cb58_063e_11eb_94ac_3f598090f73elevel0_row2\" class=\"row_heading level0 row2\" >TRUN</th>\n",
       "                        <td id=\"T_76a7cb58_063e_11eb_94ac_3f598090f73erow2_col0\" class=\"data row2 col0\" >-0.029529</td>\n",
       "                        <td id=\"T_76a7cb58_063e_11eb_94ac_3f598090f73erow2_col1\" class=\"data row2 col1\" >-0.070125</td>\n",
       "                        <td id=\"T_76a7cb58_063e_11eb_94ac_3f598090f73erow2_col2\" class=\"data row2 col2\" >1.000000</td>\n",
       "                        <td id=\"T_76a7cb58_063e_11eb_94ac_3f598090f73erow2_col3\" class=\"data row2 col3\" >0.006548</td>\n",
       "                        <td id=\"T_76a7cb58_063e_11eb_94ac_3f598090f73erow2_col4\" class=\"data row2 col4\" >nan</td>\n",
       "                        <td id=\"T_76a7cb58_063e_11eb_94ac_3f598090f73erow2_col5\" class=\"data row2 col5\" >0.231483</td>\n",
       "                        <td id=\"T_76a7cb58_063e_11eb_94ac_3f598090f73erow2_col6\" class=\"data row2 col6\" >-0.033034</td>\n",
       "                        <td id=\"T_76a7cb58_063e_11eb_94ac_3f598090f73erow2_col7\" class=\"data row2 col7\" >nan</td>\n",
       "                        <td id=\"T_76a7cb58_063e_11eb_94ac_3f598090f73erow2_col8\" class=\"data row2 col8\" >-0.047186</td>\n",
       "                        <td id=\"T_76a7cb58_063e_11eb_94ac_3f598090f73erow2_col9\" class=\"data row2 col9\" >-0.007755</td>\n",
       "                        <td id=\"T_76a7cb58_063e_11eb_94ac_3f598090f73erow2_col10\" class=\"data row2 col10\" >0.324741</td>\n",
       "                        <td id=\"T_76a7cb58_063e_11eb_94ac_3f598090f73erow2_col11\" class=\"data row2 col11\" >-0.013084</td>\n",
       "            </tr>\n",
       "            <tr>\n",
       "                        <th id=\"T_76a7cb58_063e_11eb_94ac_3f598090f73elevel0_row3\" class=\"row_heading level0 row3\" >TSLPI</th>\n",
       "                        <td id=\"T_76a7cb58_063e_11eb_94ac_3f598090f73erow3_col0\" class=\"data row3 col0\" >0.002866</td>\n",
       "                        <td id=\"T_76a7cb58_063e_11eb_94ac_3f598090f73erow3_col1\" class=\"data row3 col1\" >-0.181866</td>\n",
       "                        <td id=\"T_76a7cb58_063e_11eb_94ac_3f598090f73erow3_col2\" class=\"data row3 col2\" >0.006548</td>\n",
       "                        <td id=\"T_76a7cb58_063e_11eb_94ac_3f598090f73erow3_col3\" class=\"data row3 col3\" >1.000000</td>\n",
       "                        <td id=\"T_76a7cb58_063e_11eb_94ac_3f598090f73erow3_col4\" class=\"data row3 col4\" >nan</td>\n",
       "                        <td id=\"T_76a7cb58_063e_11eb_94ac_3f598090f73erow3_col5\" class=\"data row3 col5\" >-0.209387</td>\n",
       "                        <td id=\"T_76a7cb58_063e_11eb_94ac_3f598090f73erow3_col6\" class=\"data row3 col6\" >0.172640</td>\n",
       "                        <td id=\"T_76a7cb58_063e_11eb_94ac_3f598090f73erow3_col7\" class=\"data row3 col7\" >nan</td>\n",
       "                        <td id=\"T_76a7cb58_063e_11eb_94ac_3f598090f73erow3_col8\" class=\"data row3 col8\" >0.075968</td>\n",
       "                        <td id=\"T_76a7cb58_063e_11eb_94ac_3f598090f73erow3_col9\" class=\"data row3 col9\" >-0.015538</td>\n",
       "                        <td id=\"T_76a7cb58_063e_11eb_94ac_3f598090f73erow3_col10\" class=\"data row3 col10\" >0.037234</td>\n",
       "                        <td id=\"T_76a7cb58_063e_11eb_94ac_3f598090f73erow3_col11\" class=\"data row3 col11\" >0.060208</td>\n",
       "            </tr>\n",
       "            <tr>\n",
       "                        <th id=\"T_76a7cb58_063e_11eb_94ac_3f598090f73elevel0_row4\" class=\"row_heading level0 row4\" >TSLPU</th>\n",
       "                        <td id=\"T_76a7cb58_063e_11eb_94ac_3f598090f73erow4_col0\" class=\"data row4 col0\" >nan</td>\n",
       "                        <td id=\"T_76a7cb58_063e_11eb_94ac_3f598090f73erow4_col1\" class=\"data row4 col1\" >nan</td>\n",
       "                        <td id=\"T_76a7cb58_063e_11eb_94ac_3f598090f73erow4_col2\" class=\"data row4 col2\" >nan</td>\n",
       "                        <td id=\"T_76a7cb58_063e_11eb_94ac_3f598090f73erow4_col3\" class=\"data row4 col3\" >nan</td>\n",
       "                        <td id=\"T_76a7cb58_063e_11eb_94ac_3f598090f73erow4_col4\" class=\"data row4 col4\" >nan</td>\n",
       "                        <td id=\"T_76a7cb58_063e_11eb_94ac_3f598090f73erow4_col5\" class=\"data row4 col5\" >nan</td>\n",
       "                        <td id=\"T_76a7cb58_063e_11eb_94ac_3f598090f73erow4_col6\" class=\"data row4 col6\" >nan</td>\n",
       "                        <td id=\"T_76a7cb58_063e_11eb_94ac_3f598090f73erow4_col7\" class=\"data row4 col7\" >nan</td>\n",
       "                        <td id=\"T_76a7cb58_063e_11eb_94ac_3f598090f73erow4_col8\" class=\"data row4 col8\" >nan</td>\n",
       "                        <td id=\"T_76a7cb58_063e_11eb_94ac_3f598090f73erow4_col9\" class=\"data row4 col9\" >nan</td>\n",
       "                        <td id=\"T_76a7cb58_063e_11eb_94ac_3f598090f73erow4_col10\" class=\"data row4 col10\" >nan</td>\n",
       "                        <td id=\"T_76a7cb58_063e_11eb_94ac_3f598090f73erow4_col11\" class=\"data row4 col11\" >nan</td>\n",
       "            </tr>\n",
       "            <tr>\n",
       "                        <th id=\"T_76a7cb58_063e_11eb_94ac_3f598090f73elevel0_row5\" class=\"row_heading level0 row5\" >NICE</th>\n",
       "                        <td id=\"T_76a7cb58_063e_11eb_94ac_3f598090f73erow5_col0\" class=\"data row5 col0\" >-0.049121</td>\n",
       "                        <td id=\"T_76a7cb58_063e_11eb_94ac_3f598090f73erow5_col1\" class=\"data row5 col1\" >-0.141549</td>\n",
       "                        <td id=\"T_76a7cb58_063e_11eb_94ac_3f598090f73erow5_col2\" class=\"data row5 col2\" >0.231483</td>\n",
       "                        <td id=\"T_76a7cb58_063e_11eb_94ac_3f598090f73erow5_col3\" class=\"data row5 col3\" >-0.209387</td>\n",
       "                        <td id=\"T_76a7cb58_063e_11eb_94ac_3f598090f73erow5_col4\" class=\"data row5 col4\" >nan</td>\n",
       "                        <td id=\"T_76a7cb58_063e_11eb_94ac_3f598090f73erow5_col5\" class=\"data row5 col5\" >1.000000</td>\n",
       "                        <td id=\"T_76a7cb58_063e_11eb_94ac_3f598090f73erow5_col6\" class=\"data row5 col6\" >-0.247328</td>\n",
       "                        <td id=\"T_76a7cb58_063e_11eb_94ac_3f598090f73erow5_col7\" class=\"data row5 col7\" >nan</td>\n",
       "                        <td id=\"T_76a7cb58_063e_11eb_94ac_3f598090f73erow5_col8\" class=\"data row5 col8\" >-0.099217</td>\n",
       "                        <td id=\"T_76a7cb58_063e_11eb_94ac_3f598090f73erow5_col9\" class=\"data row5 col9\" >-0.016932</td>\n",
       "                        <td id=\"T_76a7cb58_063e_11eb_94ac_3f598090f73erow5_col10\" class=\"data row5 col10\" >0.001244</td>\n",
       "                        <td id=\"T_76a7cb58_063e_11eb_94ac_3f598090f73erow5_col11\" class=\"data row5 col11\" >-0.070777</td>\n",
       "            </tr>\n",
       "            <tr>\n",
       "                        <th id=\"T_76a7cb58_063e_11eb_94ac_3f598090f73elevel0_row6\" class=\"row_heading level0 row6\" >PRI</th>\n",
       "                        <td id=\"T_76a7cb58_063e_11eb_94ac_3f598090f73erow6_col0\" class=\"data row6 col0\" >0.096663</td>\n",
       "                        <td id=\"T_76a7cb58_063e_11eb_94ac_3f598090f73erow6_col1\" class=\"data row6 col1\" >-0.158533</td>\n",
       "                        <td id=\"T_76a7cb58_063e_11eb_94ac_3f598090f73erow6_col2\" class=\"data row6 col2\" >-0.033034</td>\n",
       "                        <td id=\"T_76a7cb58_063e_11eb_94ac_3f598090f73erow6_col3\" class=\"data row6 col3\" >0.172640</td>\n",
       "                        <td id=\"T_76a7cb58_063e_11eb_94ac_3f598090f73erow6_col4\" class=\"data row6 col4\" >nan</td>\n",
       "                        <td id=\"T_76a7cb58_063e_11eb_94ac_3f598090f73erow6_col5\" class=\"data row6 col5\" >-0.247328</td>\n",
       "                        <td id=\"T_76a7cb58_063e_11eb_94ac_3f598090f73erow6_col6\" class=\"data row6 col6\" >1.000000</td>\n",
       "                        <td id=\"T_76a7cb58_063e_11eb_94ac_3f598090f73erow6_col7\" class=\"data row6 col7\" >nan</td>\n",
       "                        <td id=\"T_76a7cb58_063e_11eb_94ac_3f598090f73erow6_col8\" class=\"data row6 col8\" >0.279098</td>\n",
       "                        <td id=\"T_76a7cb58_063e_11eb_94ac_3f598090f73erow6_col9\" class=\"data row6 col9\" >-0.143898</td>\n",
       "                        <td id=\"T_76a7cb58_063e_11eb_94ac_3f598090f73erow6_col10\" class=\"data row6 col10\" >0.011278</td>\n",
       "                        <td id=\"T_76a7cb58_063e_11eb_94ac_3f598090f73erow6_col11\" class=\"data row6 col11\" >-0.007940</td>\n",
       "            </tr>\n",
       "            <tr>\n",
       "                        <th id=\"T_76a7cb58_063e_11eb_94ac_3f598090f73elevel0_row7\" class=\"row_heading level0 row7\" >RTPR</th>\n",
       "                        <td id=\"T_76a7cb58_063e_11eb_94ac_3f598090f73erow7_col0\" class=\"data row7 col0\" >nan</td>\n",
       "                        <td id=\"T_76a7cb58_063e_11eb_94ac_3f598090f73erow7_col1\" class=\"data row7 col1\" >nan</td>\n",
       "                        <td id=\"T_76a7cb58_063e_11eb_94ac_3f598090f73erow7_col2\" class=\"data row7 col2\" >nan</td>\n",
       "                        <td id=\"T_76a7cb58_063e_11eb_94ac_3f598090f73erow7_col3\" class=\"data row7 col3\" >nan</td>\n",
       "                        <td id=\"T_76a7cb58_063e_11eb_94ac_3f598090f73erow7_col4\" class=\"data row7 col4\" >nan</td>\n",
       "                        <td id=\"T_76a7cb58_063e_11eb_94ac_3f598090f73erow7_col5\" class=\"data row7 col5\" >nan</td>\n",
       "                        <td id=\"T_76a7cb58_063e_11eb_94ac_3f598090f73erow7_col6\" class=\"data row7 col6\" >nan</td>\n",
       "                        <td id=\"T_76a7cb58_063e_11eb_94ac_3f598090f73erow7_col7\" class=\"data row7 col7\" >nan</td>\n",
       "                        <td id=\"T_76a7cb58_063e_11eb_94ac_3f598090f73erow7_col8\" class=\"data row7 col8\" >nan</td>\n",
       "                        <td id=\"T_76a7cb58_063e_11eb_94ac_3f598090f73erow7_col9\" class=\"data row7 col9\" >nan</td>\n",
       "                        <td id=\"T_76a7cb58_063e_11eb_94ac_3f598090f73erow7_col10\" class=\"data row7 col10\" >nan</td>\n",
       "                        <td id=\"T_76a7cb58_063e_11eb_94ac_3f598090f73erow7_col11\" class=\"data row7 col11\" >nan</td>\n",
       "            </tr>\n",
       "            <tr>\n",
       "                        <th id=\"T_76a7cb58_063e_11eb_94ac_3f598090f73elevel0_row8\" class=\"row_heading level0 row8\" >CPUNR</th>\n",
       "                        <td id=\"T_76a7cb58_063e_11eb_94ac_3f598090f73erow8_col0\" class=\"data row8 col0\" >0.185519</td>\n",
       "                        <td id=\"T_76a7cb58_063e_11eb_94ac_3f598090f73erow8_col1\" class=\"data row8 col1\" >0.102534</td>\n",
       "                        <td id=\"T_76a7cb58_063e_11eb_94ac_3f598090f73erow8_col2\" class=\"data row8 col2\" >-0.047186</td>\n",
       "                        <td id=\"T_76a7cb58_063e_11eb_94ac_3f598090f73erow8_col3\" class=\"data row8 col3\" >0.075968</td>\n",
       "                        <td id=\"T_76a7cb58_063e_11eb_94ac_3f598090f73erow8_col4\" class=\"data row8 col4\" >nan</td>\n",
       "                        <td id=\"T_76a7cb58_063e_11eb_94ac_3f598090f73erow8_col5\" class=\"data row8 col5\" >-0.099217</td>\n",
       "                        <td id=\"T_76a7cb58_063e_11eb_94ac_3f598090f73erow8_col6\" class=\"data row8 col6\" >0.279098</td>\n",
       "                        <td id=\"T_76a7cb58_063e_11eb_94ac_3f598090f73erow8_col7\" class=\"data row8 col7\" >nan</td>\n",
       "                        <td id=\"T_76a7cb58_063e_11eb_94ac_3f598090f73erow8_col8\" class=\"data row8 col8\" >1.000000</td>\n",
       "                        <td id=\"T_76a7cb58_063e_11eb_94ac_3f598090f73erow8_col9\" class=\"data row8 col9\" >-0.038457</td>\n",
       "                        <td id=\"T_76a7cb58_063e_11eb_94ac_3f598090f73erow8_col10\" class=\"data row8 col10\" >-0.045114</td>\n",
       "                        <td id=\"T_76a7cb58_063e_11eb_94ac_3f598090f73erow8_col11\" class=\"data row8 col11\" >0.004728</td>\n",
       "            </tr>\n",
       "            <tr>\n",
       "                        <th id=\"T_76a7cb58_063e_11eb_94ac_3f598090f73elevel0_row9\" class=\"row_heading level0 row9\" >EXC</th>\n",
       "                        <td id=\"T_76a7cb58_063e_11eb_94ac_3f598090f73erow9_col0\" class=\"data row9 col0\" >-0.012912</td>\n",
       "                        <td id=\"T_76a7cb58_063e_11eb_94ac_3f598090f73erow9_col1\" class=\"data row9 col1\" >-0.002115</td>\n",
       "                        <td id=\"T_76a7cb58_063e_11eb_94ac_3f598090f73erow9_col2\" class=\"data row9 col2\" >-0.007755</td>\n",
       "                        <td id=\"T_76a7cb58_063e_11eb_94ac_3f598090f73erow9_col3\" class=\"data row9 col3\" >-0.015538</td>\n",
       "                        <td id=\"T_76a7cb58_063e_11eb_94ac_3f598090f73erow9_col4\" class=\"data row9 col4\" >nan</td>\n",
       "                        <td id=\"T_76a7cb58_063e_11eb_94ac_3f598090f73erow9_col5\" class=\"data row9 col5\" >-0.016932</td>\n",
       "                        <td id=\"T_76a7cb58_063e_11eb_94ac_3f598090f73erow9_col6\" class=\"data row9 col6\" >-0.143898</td>\n",
       "                        <td id=\"T_76a7cb58_063e_11eb_94ac_3f598090f73erow9_col7\" class=\"data row9 col7\" >nan</td>\n",
       "                        <td id=\"T_76a7cb58_063e_11eb_94ac_3f598090f73erow9_col8\" class=\"data row9 col8\" >-0.038457</td>\n",
       "                        <td id=\"T_76a7cb58_063e_11eb_94ac_3f598090f73erow9_col9\" class=\"data row9 col9\" >1.000000</td>\n",
       "                        <td id=\"T_76a7cb58_063e_11eb_94ac_3f598090f73erow9_col10\" class=\"data row9 col10\" >-0.001811</td>\n",
       "                        <td id=\"T_76a7cb58_063e_11eb_94ac_3f598090f73erow9_col11\" class=\"data row9 col11\" >-0.011261</td>\n",
       "            </tr>\n",
       "            <tr>\n",
       "                        <th id=\"T_76a7cb58_063e_11eb_94ac_3f598090f73elevel0_row10\" class=\"row_heading level0 row10\" >CPU</th>\n",
       "                        <td id=\"T_76a7cb58_063e_11eb_94ac_3f598090f73erow10_col0\" class=\"data row10 col0\" >-0.008898</td>\n",
       "                        <td id=\"T_76a7cb58_063e_11eb_94ac_3f598090f73erow10_col1\" class=\"data row10 col1\" >-0.016316</td>\n",
       "                        <td id=\"T_76a7cb58_063e_11eb_94ac_3f598090f73erow10_col2\" class=\"data row10 col2\" >0.324741</td>\n",
       "                        <td id=\"T_76a7cb58_063e_11eb_94ac_3f598090f73erow10_col3\" class=\"data row10 col3\" >0.037234</td>\n",
       "                        <td id=\"T_76a7cb58_063e_11eb_94ac_3f598090f73erow10_col4\" class=\"data row10 col4\" >nan</td>\n",
       "                        <td id=\"T_76a7cb58_063e_11eb_94ac_3f598090f73erow10_col5\" class=\"data row10 col5\" >0.001244</td>\n",
       "                        <td id=\"T_76a7cb58_063e_11eb_94ac_3f598090f73erow10_col6\" class=\"data row10 col6\" >0.011278</td>\n",
       "                        <td id=\"T_76a7cb58_063e_11eb_94ac_3f598090f73erow10_col7\" class=\"data row10 col7\" >nan</td>\n",
       "                        <td id=\"T_76a7cb58_063e_11eb_94ac_3f598090f73erow10_col8\" class=\"data row10 col8\" >-0.045114</td>\n",
       "                        <td id=\"T_76a7cb58_063e_11eb_94ac_3f598090f73erow10_col9\" class=\"data row10 col9\" >-0.001811</td>\n",
       "                        <td id=\"T_76a7cb58_063e_11eb_94ac_3f598090f73erow10_col10\" class=\"data row10 col10\" >1.000000</td>\n",
       "                        <td id=\"T_76a7cb58_063e_11eb_94ac_3f598090f73erow10_col11\" class=\"data row10 col11\" >-0.000548</td>\n",
       "            </tr>\n",
       "            <tr>\n",
       "                        <th id=\"T_76a7cb58_063e_11eb_94ac_3f598090f73elevel0_row11\" class=\"row_heading level0 row11\" >attack</th>\n",
       "                        <td id=\"T_76a7cb58_063e_11eb_94ac_3f598090f73erow11_col0\" class=\"data row11 col0\" >0.026634</td>\n",
       "                        <td id=\"T_76a7cb58_063e_11eb_94ac_3f598090f73erow11_col1\" class=\"data row11 col1\" >-0.046521</td>\n",
       "                        <td id=\"T_76a7cb58_063e_11eb_94ac_3f598090f73erow11_col2\" class=\"data row11 col2\" >-0.013084</td>\n",
       "                        <td id=\"T_76a7cb58_063e_11eb_94ac_3f598090f73erow11_col3\" class=\"data row11 col3\" >0.060208</td>\n",
       "                        <td id=\"T_76a7cb58_063e_11eb_94ac_3f598090f73erow11_col4\" class=\"data row11 col4\" >nan</td>\n",
       "                        <td id=\"T_76a7cb58_063e_11eb_94ac_3f598090f73erow11_col5\" class=\"data row11 col5\" >-0.070777</td>\n",
       "                        <td id=\"T_76a7cb58_063e_11eb_94ac_3f598090f73erow11_col6\" class=\"data row11 col6\" >-0.007940</td>\n",
       "                        <td id=\"T_76a7cb58_063e_11eb_94ac_3f598090f73erow11_col7\" class=\"data row11 col7\" >nan</td>\n",
       "                        <td id=\"T_76a7cb58_063e_11eb_94ac_3f598090f73erow11_col8\" class=\"data row11 col8\" >0.004728</td>\n",
       "                        <td id=\"T_76a7cb58_063e_11eb_94ac_3f598090f73erow11_col9\" class=\"data row11 col9\" >-0.011261</td>\n",
       "                        <td id=\"T_76a7cb58_063e_11eb_94ac_3f598090f73erow11_col10\" class=\"data row11 col10\" >-0.000548</td>\n",
       "                        <td id=\"T_76a7cb58_063e_11eb_94ac_3f598090f73erow11_col11\" class=\"data row11 col11\" >1.000000</td>\n",
       "            </tr>\n",
       "    </tbody></table>"
      ],
      "text/plain": [
       "<pandas.io.formats.style.Styler at 0x7f5be9fe8550>"
      ]
     },
     "execution_count": 41,
     "metadata": {},
     "output_type": "execute_result"
    }
   ],
   "source": [
    "process_corr = process_sample_df.corr()\n",
    "process_corr.style.background_gradient(cmap='coolwarm')"
   ]
  },
  {
   "cell_type": "markdown",
   "metadata": {},
   "source": [
    "#### DESCRIPTION:\n",
    "The above correlation plot shows the value of the correlation coefficients with all the other columns. The correlation coeffiient of a column with itself is always said to be 1. \n",
    "\n",
    "It can be seen that TSLPU and RTPR have NaN values as they have no correlation with any other column.\n",
    "Columns like TSLPI, EXC and CPUNR have high correlation coefficients in comparison to the othe columns."
   ]
  },
  {
   "cell_type": "code",
   "execution_count": 44,
   "metadata": {},
   "outputs": [
    {
     "data": {
      "text/plain": [
       "Text(0.5, 0, 'attack')"
      ]
     },
     "execution_count": 44,
     "metadata": {},
     "output_type": "execute_result"
    },
    {
     "data": {
      "image/png": "[encoded data removed]",
      "text/plain": [
       "<Figure size 360x360 with 1 Axes>"
      ]
     },
     "metadata": {
      "needs_background": "light"
     },
     "output_type": "display_data"
    }
   ],
   "source": [
    "fig = plt.figure(figsize = (5, 5)) \n",
    "  \n",
    "# creating the bar plot \n",
    "plt.bar(process_sample_df['attack'], process_sample_df['EXC'], color ='blue', width = 0.4)\n",
    "plt.xticks(np.arange(0, 2, 1))\n",
    "plt.ylabel('EXC')\n",
    "plt.xlabel('attack')"
   ]
  },
  {
   "cell_type": "markdown",
   "metadata": {},
   "source": [
    "#### DESCRIPTION:\n",
    "The bar graph shown above tells about the relation of attack with respect to EXC column. There is a high imbalance in the values showing attack and non-attack i.e. 1 and 0. When we see such difference in values, it can't clearly say that this particular value can help in predicting whether it is an attack or a non-attack condition more effectively."
   ]
  },
  {
   "cell_type": "markdown",
   "metadata": {},
   "source": [
    "# 2. Feature extraction and ML training\n",
    "## 2.1 Preparing the training data and testing data"
   ]
  },
  {
   "cell_type": "markdown",
   "metadata": {},
   "source": [
    "##### 1. Randomly split the dataset into 80% training data and 20% testing data for each use case"
   ]
  },
  {
   "cell_type": "code",
   "execution_count": 45,
   "metadata": {},
   "outputs": [],
   "source": [
    "memory_train, memory_test = memory_clean.randomSplit([0.8, 0.2], seed=2020)\n",
    "process_train, process_test = process_df.randomSplit([0.8, 0.2], seed=2020)"
   ]
  },
  {
   "cell_type": "markdown",
   "metadata": {},
   "source": [
    "##### 2. With the class imbalance observed from 1.3.1, for the binary classification use case 1 & 2, prepare rebalanced training data, with attack events and non-attack events being 1:2 ratio, while using 20% attack events data from the training data from 2.1.1. Cache the rebalanced training data, and display the count of each event's data."
   ]
  },
  {
   "cell_type": "code",
   "execution_count": 46,
   "metadata": {},
   "outputs": [],
   "source": [
    "attack_train = memory_train.filter(memory_train.attack=='1')\n",
    "non_attack_train = memory_train.filter(memory_train.attack=='0')"
   ]
  },
  {
   "cell_type": "markdown",
   "metadata": {},
   "source": [
    "###### Please Note: Due to latency issues, 5% attack data is taken but the condition of 1:2 ratio stays in place."
   ]
  },
  {
   "cell_type": "code",
   "execution_count": 47,
   "metadata": {},
   "outputs": [],
   "source": [
    "rebalanced_attack = attack_train.sample(False, 0.05)"
   ]
  },
  {
   "cell_type": "code",
   "execution_count": 48,
   "metadata": {},
   "outputs": [],
   "source": [
    "n=rebalanced_attack.count() #count of the attack data in the train sample of attack training data of memory."
   ]
  },
  {
   "cell_type": "code",
   "execution_count": 49,
   "metadata": {},
   "outputs": [],
   "source": [
    "#twice the count of attack rows are taken for the non-attack data\n",
    "rebalanced_non_attack = non_attack_train.orderBy(rand()).limit(2*n)"
   ]
  },
  {
   "cell_type": "code",
   "execution_count": 50,
   "metadata": {},
   "outputs": [
    {
     "data": {
      "text/plain": [
       "DataFrame[ts: bigint, PID: bigint, MINFLT: double, MAJFLT: double, VSTEXT: double, VSIZE: double, RSIZE: double, VGROW: double, RGROW: double, MEM: double, CMD: string, attack: bigint, type: string]"
      ]
     },
     "execution_count": 50,
     "metadata": {},
     "output_type": "execute_result"
    }
   ],
   "source": [
    "rebalanced_memory = rebalanced_attack.union(rebalanced_non_attack)\n",
    "rebalanced_memory.cache()"
   ]
  },
  {
   "cell_type": "code",
   "execution_count": 51,
   "metadata": {},
   "outputs": [],
   "source": [
    "process_attack_train = process_train.filter(process_train.attack=='1')\n",
    "process_non_attack_train = process_train.filter(process_train.attack=='0')"
   ]
  },
  {
   "cell_type": "markdown",
   "metadata": {},
   "source": [
    "###### Please Note: Due to latency issues, 5% attack data is taken but the condition of 1:2 ratio stays in place."
   ]
  },
  {
   "cell_type": "code",
   "execution_count": 52,
   "metadata": {},
   "outputs": [],
   "source": [
    "rebalanced_process_attack = process_attack_train.sample(False, 0.05)"
   ]
  },
  {
   "cell_type": "code",
   "execution_count": 53,
   "metadata": {},
   "outputs": [],
   "source": [
    "n1=rebalanced_process_attack.count()"
   ]
  },
  {
   "cell_type": "code",
   "execution_count": 54,
   "metadata": {},
   "outputs": [],
   "source": [
    "rebalanced_process_non_attack = process_non_attack_train.orderBy(rand()).limit(2*n1)"
   ]
  },
  {
   "cell_type": "code",
   "execution_count": 55,
   "metadata": {},
   "outputs": [
    {
     "data": {
      "text/plain": [
       "DataFrame[ts: int, PID: int, TRUN: int, TSLPI: int, TSLPU: int, POLI: string, NICE: int, PRI: int, RTPR: int, CPUNR: int, Status: string, EXC: int, State: string, CPU: int, CMD: string, attack: int, type: string]"
      ]
     },
     "execution_count": 55,
     "metadata": {},
     "output_type": "execute_result"
    }
   ],
   "source": [
    "rebalanced_process = rebalanced_process_attack.union(rebalanced_process_non_attack)\n",
    "rebalanced_process.cache()"
   ]
  },
  {
   "cell_type": "code",
   "execution_count": 56,
   "metadata": {},
   "outputs": [
    {
     "name": "stdout",
     "output_type": "stream",
     "text": [
      "Count of rebalanced training data for memory activity: 24561\n"
     ]
    }
   ],
   "source": [
    "print(\"Count of rebalanced training data for memory activity:\",rebalanced_memory.count())"
   ]
  },
  {
   "cell_type": "code",
   "execution_count": 57,
   "metadata": {},
   "outputs": [
    {
     "name": "stdout",
     "output_type": "stream",
     "text": [
      "Count of rebalanced training data for process activity: 35217\n"
     ]
    }
   ],
   "source": [
    "print(\"Count of rebalanced training data for process activity:\",rebalanced_process.count())"
   ]
  },
  {
   "cell_type": "code",
   "execution_count": null,
   "metadata": {},
   "outputs": [],
   "source": []
  },
  {
   "cell_type": "markdown",
   "metadata": {},
   "source": [
    "## 2.2 Preparing features, labels and models\n",
    "##### 1. Based on data exploration from 1.3.3, which features would you select? Discuss the reason for selecting them and how you plan to further transform them."
   ]
  },
  {
   "cell_type": "markdown",
   "metadata": {},
   "source": [
    "For the memory activity, 'ts', 'MINFLT', 'MAJFLT', 'VSTEXT', 'RSIZE', 'VGROW' and 'MEM' have been selected keeping in mind the correlation of these columns with attack. These are the columns with most correlation with the attack column that is the reason they have been chosen.\n",
    "As all these columns are numeric, so VectorAssembler and StandardScaler are chosen. VectorAssembler is chosen in order to merge multiple columns into a vector column and the StandardScaler transforms the numeric data such that its distribution will have a mean value 0 and standard deviation of 1.\n",
    "\n",
    "For the process activity, 'ts', 'TSLPI', 'CPUNR', 'PRI','CPU', 'POLI', 'Status', 'State' and 'CMD' have been selected based on how well they are related to the attack column. Out of these, 'ts', 'TSLPI','PRI', 'CPUNR', 'CPU' are the numeric columns and 'POLI', 'Status', 'State' and 'CMD' are the non-numeric ones. The non-numeric columns are first passed through a StringIndexer and then one-hot encoding is performed on them. The output of the one-hot encoder and the numeric columns are now combined and then put in a VectorAssembler for further transformation."
   ]
  },
  {
   "cell_type": "markdown",
   "metadata": {},
   "source": [
    "##### 2. Create Transformers / Estimators for transforming / assembling the features you selected above in 2.2.1."
   ]
  },
  {
   "cell_type": "code",
   "execution_count": 58,
   "metadata": {},
   "outputs": [],
   "source": [
    "memory_num = ['ts','MINFLT','MAJFLT','VSTEXT','RSIZE','VGROW', 'MEM']\n",
    "memory_df_num = memory_df[memory_num]"
   ]
  },
  {
   "cell_type": "code",
   "execution_count": 59,
   "metadata": {},
   "outputs": [],
   "source": [
    "#Define the vector Assembler Here\n",
    "assembler = VectorAssembler(inputCols=memory_num, outputCol='features')"
   ]
  },
  {
   "cell_type": "code",
   "execution_count": 60,
   "metadata": {},
   "outputs": [],
   "source": [
    "#Define the Standard Scaler here\n",
    "scaler = StandardScaler(inputCol='features', outputCol='scaledFeatures')"
   ]
  },
  {
   "cell_type": "code",
   "execution_count": null,
   "metadata": {},
   "outputs": [],
   "source": []
  },
  {
   "cell_type": "code",
   "execution_count": 61,
   "metadata": {},
   "outputs": [],
   "source": [
    "process_num_cols = ['ts','PRI','TSLPI','CPUNR','CPU']\n",
    "process_df_num = process_df[process_num_cols]\n",
    "\n",
    "non_num_cols = ['POLI','Status','State','CMD']\n",
    "process_non_num_df = process_df[non_num_cols]"
   ]
  },
  {
   "cell_type": "code",
   "execution_count": 62,
   "metadata": {},
   "outputs": [],
   "source": [
    "#PROCESS ACTIVITY\n",
    "# STRING INDEXER\n",
    "\n",
    "#Define the input columns\n",
    "inputCols_process=[x for x in process_non_num_df.columns]\n",
    "#Define the output columns \n",
    "outputCols_process=[f'{x}_index' for x in process_non_num_df.columns]\n",
    "\n",
    "# Initialize StringIndexer (use inputCols and outputCols)\n",
    "stage_1_process = StringIndexer(inputCols=inputCols_process, outputCols=outputCols_process)"
   ]
  },
  {
   "cell_type": "code",
   "execution_count": 63,
   "metadata": {},
   "outputs": [],
   "source": [
    "#OHE\n",
    "\n",
    "#WRITE THE CODE WHERE NECESSARY\n",
    "#the outputcols of previous step act as input cols for this step\n",
    "inputCols_OHE_process = [x for x in outputCols_process if (x!='attack')] #all output columns from StringIndexer exept the Income\n",
    "outputCols_OHE_process = [f'{x}_vec' for x in outputCols_process if (x!='attack')]\n",
    "\n",
    "#Define OneHotEncoder with the appropriate columns\n",
    "stage_2_process = OneHotEncoder(inputCols=inputCols_OHE_process, outputCols=outputCols_OHE_process)"
   ]
  },
  {
   "cell_type": "code",
   "execution_count": 64,
   "metadata": {},
   "outputs": [],
   "source": [
    "# VECTOR ASSEMBLER\n",
    "\n",
    "#WRITE THE CODE WHERE NECESSARY\n",
    "inputCols_process= [x for x in outputCols_OHE_process]+process_num_cols #the output columns from Task 3 i.e. OHE\n",
    "\n",
    "#Define the assembler with appropriate input and output columns\n",
    "stage_3_process = VectorAssembler(inputCols=inputCols_process, outputCol=\"features\")"
   ]
  },
  {
   "cell_type": "code",
   "execution_count": null,
   "metadata": {},
   "outputs": [],
   "source": []
  },
  {
   "cell_type": "markdown",
   "metadata": {},
   "source": [
    "##### 3. Prepare Estimators for Decision Tree & Gradient Boosted Tree model for each case and include them into ML Pipelines for use case 1, 2.\n",
    "##### ○ A maximum of two pipelines can be created for each use case"
   ]
  },
  {
   "cell_type": "markdown",
   "metadata": {},
   "source": [
    "#### PIPELINE FOR MEMORY ACTIVITY"
   ]
  },
  {
   "cell_type": "code",
   "execution_count": 65,
   "metadata": {},
   "outputs": [],
   "source": [
    "memory_dt = DecisionTreeClassifier(labelCol=\"attack\", featuresCol=\"scaledFeatures\")"
   ]
  },
  {
   "cell_type": "code",
   "execution_count": 66,
   "metadata": {},
   "outputs": [],
   "source": [
    "pipeline_dt = Pipeline(stages=[assembler, scaler, memory_dt])"
   ]
  },
  {
   "cell_type": "code",
   "execution_count": 67,
   "metadata": {},
   "outputs": [],
   "source": [
    "memory_gbt = GBTClassifier(labelCol=\"attack\", featuresCol=\"scaledFeatures\")"
   ]
  },
  {
   "cell_type": "code",
   "execution_count": 68,
   "metadata": {},
   "outputs": [],
   "source": [
    "pipeline_gbt = Pipeline(stages=[assembler, scaler, memory_gbt])"
   ]
  },
  {
   "cell_type": "markdown",
   "metadata": {},
   "source": [
    "#### PIPELINE FOR PROCESS ACTIVITY"
   ]
  },
  {
   "cell_type": "code",
   "execution_count": 69,
   "metadata": {},
   "outputs": [],
   "source": [
    "stage_4_process_dt = DecisionTreeClassifier(labelCol=\"attack\", featuresCol=\"features\")"
   ]
  },
  {
   "cell_type": "code",
   "execution_count": 70,
   "metadata": {},
   "outputs": [],
   "source": [
    "stage_4_process_gbt = GBTClassifier(labelCol=\"attack\", featuresCol=\"features\")"
   ]
  },
  {
   "cell_type": "code",
   "execution_count": 71,
   "metadata": {},
   "outputs": [],
   "source": [
    "process_dt_pipeline = Pipeline(stages=[stage_1_process,stage_2_process,stage_3_process, stage_4_process_dt])"
   ]
  },
  {
   "cell_type": "code",
   "execution_count": 72,
   "metadata": {},
   "outputs": [],
   "source": [
    "process_gbt_pipeline = Pipeline(stages=[stage_1_process,stage_2_process,stage_3_process, stage_4_process_gbt])"
   ]
  },
  {
   "cell_type": "code",
   "execution_count": null,
   "metadata": {},
   "outputs": [],
   "source": []
  },
  {
   "cell_type": "markdown",
   "metadata": {},
   "source": [
    "#### PLEASE NOTE:\n",
    "In the following parts, due to data latency and VM issues in handling the data. Some part of the code sometimes takes too long to run and doesn't seem to stop and eventually the kernel dies. I've been trying to the Py4JJava Error as well since the past three days but haven't been able to spot any error with my code because it did run once properly on my machine but soon after that the problem kept on occurring. Therefore, I am sure that I have written the code to the best of my capability and do not seem to find anything wrong with it as it had compiled and executed correctly once and never thereafter.\n",
    "\n"
   ]
  },
  {
   "cell_type": "markdown",
   "metadata": {},
   "source": [
    "## 2.3 Training and evaluating models\n",
    "##### 1. For each use case, use the corresponding ML Pipeline from previous step to train the models on the rebalanced training data from 2.1.2"
   ]
  },
  {
   "cell_type": "markdown",
   "metadata": {},
   "source": [
    "###### USE CASE 1: MEMORY"
   ]
  },
  {
   "cell_type": "code",
   "execution_count": 73,
   "metadata": {},
   "outputs": [],
   "source": [
    "memory_dt_model= pipeline_dt.fit(rebalanced_memory)"
   ]
  },
  {
   "cell_type": "code",
   "execution_count": 74,
   "metadata": {},
   "outputs": [],
   "source": [
    "memory_gbt_model= pipeline_gbt.fit(rebalanced_memory)"
   ]
  },
  {
   "cell_type": "markdown",
   "metadata": {},
   "source": [
    "###### USE CASE 2: PROCESS"
   ]
  },
  {
   "cell_type": "code",
   "execution_count": 76,
   "metadata": {},
   "outputs": [],
   "source": [
    "process_dt_model= process_dt_pipeline.fit(rebalanced_process)"
   ]
  },
  {
   "cell_type": "code",
   "execution_count": 77,
   "metadata": {
    "scrolled": true
   },
   "outputs": [],
   "source": [
    "process_gbt_model = process_gbt_pipeline.fit(df_indexed_process)"
   ]
  },
  {
   "cell_type": "markdown",
   "metadata": {},
   "source": [
    "##### 2. For each use case, test the models on the testing data from 2.1.1 and display the count of each combination of attack label and prediction label"
   ]
  },
  {
   "cell_type": "code",
   "execution_count": 78,
   "metadata": {},
   "outputs": [],
   "source": [
    "memory_dtPredictions = memory_dt_model.transform(memory_test)#WRITE CODE to get predictions from the test data"
   ]
  },
  {
   "cell_type": "code",
   "execution_count": 79,
   "metadata": {},
   "outputs": [
    {
     "name": "stdout",
     "output_type": "stream",
     "text": [
      "+------+----------+------+\n",
      "|attack|prediction| count|\n",
      "+------+----------+------+\n",
      "|     1|       0.0|  1606|\n",
      "|     0|       1.0| 26866|\n",
      "|     0|       0.0|331688|\n",
      "|     1|       1.0| 39629|\n",
      "+------+----------+------+\n",
      "\n"
     ]
    }
   ],
   "source": [
    "# show confusion matrix\n",
    "memory_dtPredictions.groupBy('attack', 'prediction').count().show()"
   ]
  },
  {
   "cell_type": "code",
   "execution_count": null,
   "metadata": {},
   "outputs": [],
   "source": []
  },
  {
   "cell_type": "code",
   "execution_count": 80,
   "metadata": {},
   "outputs": [],
   "source": [
    "memory_gbtPredictions = memory_gbt_model.transform(memory_test)#WRITE CODE to get predictions from the test data"
   ]
  },
  {
   "cell_type": "code",
   "execution_count": 81,
   "metadata": {},
   "outputs": [
    {
     "name": "stdout",
     "output_type": "stream",
     "text": [
      "+------+----------+------+\n",
      "|attack|prediction| count|\n",
      "+------+----------+------+\n",
      "|     1|       0.0|  2113|\n",
      "|     0|       1.0| 18871|\n",
      "|     0|       0.0|339683|\n",
      "|     1|       1.0| 39122|\n",
      "+------+----------+------+\n",
      "\n"
     ]
    }
   ],
   "source": [
    "# show confusion matrix\n",
    "memory_gbtPredictions.groupBy('attack', 'prediction').count().show()"
   ]
  },
  {
   "cell_type": "code",
   "execution_count": null,
   "metadata": {},
   "outputs": [],
   "source": []
  },
  {
   "cell_type": "code",
   "execution_count": null,
   "metadata": {},
   "outputs": [],
   "source": [
    "process_dtPredictions = process_dt_model.transform(process_test)#WRITE CODE to get predictions from the test data"
   ]
  },
  {
   "cell_type": "code",
   "execution_count": null,
   "metadata": {},
   "outputs": [],
   "source": [
    "# show confusion matrix\n",
    "process_dtPredictions.groupBy('attack', 'prediction').count().show()"
   ]
  },
  {
   "cell_type": "code",
   "execution_count": null,
   "metadata": {},
   "outputs": [],
   "source": [
    "process_gbtPredictions = process_gbt_model.transform(process_test)#WRITE CODE to get predictions from the test data\n",
    "#WRITE CODE to Display the predictions\n",
    "process_gbtPredictions.select(\"features\", \"attack\", \"prediction\").show(5,truncate=False)"
   ]
  },
  {
   "cell_type": "code",
   "execution_count": null,
   "metadata": {},
   "outputs": [],
   "source": [
    "# show confusion matrix\n",
    "process_gbtPredictions.groupBy('attack', 'prediction').count().show()"
   ]
  },
  {
   "cell_type": "markdown",
   "metadata": {},
   "source": [
    "##### 3. Compute the AUC, accuracy, recall and precision for the attack label from each model testing result using pyspark MLlib / ML APIs. Discuss which metric is more proper for measuring the model performance on identifying attacks."
   ]
  },
  {
   "cell_type": "code",
   "execution_count": 82,
   "metadata": {},
   "outputs": [],
   "source": [
    "def compute_metrics(predictions):\n",
    "    #WRITE CODE: to calculate accuracy,precision,recall and f1 based on above example\n",
    "    TN = predictions.filter('prediction = 0 AND attack = 0').count()\n",
    "    TP = predictions.filter('prediction = 1 AND attack = 1').count()\n",
    "    FN = predictions.filter('prediction = 0 AND attack = 1').count() #WRITE CODE to find the False Negative\n",
    "    FP = predictions.filter('prediction = 1 AND attack = 0').count() #WRITE CODE to find the False Positive\n",
    "    \n",
    "    accuracy = (TP + TN) / (TP + TN + FP + FN) #WRITE CODE : formula to find accuracy\n",
    "    precision = TP / (TP + FP) #WRITE CODE : formula to find precision\n",
    "    recall = TP / (TP + FN) #WRITE CODE : formula to find recall\n",
    "    f1 = 2 / ((1 / recall) + (1 / precision)) #WRITE CODE : formula to find F1-score\n",
    "    \n",
    "    \n",
    "    return accuracy,precision,recall,f1"
   ]
  },
  {
   "cell_type": "code",
   "execution_count": 83,
   "metadata": {},
   "outputs": [],
   "source": [
    "# Use BinaryClassificationEvaluator to evaluate a model\n",
    "from pyspark.ml.evaluation import BinaryClassificationEvaluator\n",
    "\n",
    "# Evaluate model Decision Tree\n",
    "evaluator = BinaryClassificationEvaluator(rawPredictionCol=\"rawPrediction\")"
   ]
  },
  {
   "cell_type": "code",
   "execution_count": 86,
   "metadata": {},
   "outputs": [],
   "source": [
    "a = compute_metrics(memory_dtPredictions)\n",
    "print(a)"
   ]
  },
  {
   "cell_type": "code",
   "execution_count": null,
   "metadata": {},
   "outputs": [],
   "source": [
    "memory_dtPredictions=memory_dtPredictions.withColumnRenamed('attack', 'label')\n",
    "auc_memory_dt = evaluator.evaluate(memory_dtPredictions)\n",
    "print(auc_memory_dt)"
   ]
  },
  {
   "cell_type": "code",
   "execution_count": null,
   "metadata": {},
   "outputs": [],
   "source": [
    "b = compute_metrics(memory_gbtPredictions)\n",
    "print(b)"
   ]
  },
  {
   "cell_type": "code",
   "execution_count": null,
   "metadata": {},
   "outputs": [],
   "source": [
    "memory_gbtPredictions=memory_gbtPredictions.withColumnRenamed('attack', 'label')\n",
    "auc_memory_gbt = evaluator.evaluate(memory_gbtPredictions)\n",
    "print(auc_memory_gbt)"
   ]
  },
  {
   "cell_type": "code",
   "execution_count": null,
   "metadata": {},
   "outputs": [],
   "source": [
    "c = compute_metrics(process_dtPredictions)\n",
    "print(c)"
   ]
  },
  {
   "cell_type": "code",
   "execution_count": null,
   "metadata": {},
   "outputs": [],
   "source": [
    "process_dtPredictions=process_dtPredictions.withColumnRenamed('attack', 'label')\n",
    "auc_process_dt = evaluator.evaluate(process_dtPredictions)\n",
    "print(auc_process_dt)"
   ]
  },
  {
   "cell_type": "code",
   "execution_count": null,
   "metadata": {},
   "outputs": [],
   "source": [
    "d = compute_metrics(process_gbtPredictions)\n",
    "print(d)"
   ]
  },
  {
   "cell_type": "code",
   "execution_count": null,
   "metadata": {},
   "outputs": [],
   "source": [
    "process_dtPredictions=process_dtPredictions.withColumnRenamed('attack', 'label')\n",
    "auc_process_gbt = evaluator.evaluate(process_gbtPredictions)\n",
    "print(auc_process_gbt)"
   ]
  },
  {
   "cell_type": "code",
   "execution_count": null,
   "metadata": {},
   "outputs": [],
   "source": []
  },
  {
   "cell_type": "markdown",
   "metadata": {},
   "source": [
    "##### DESCRIPTION:\n",
    "Though the question just asks us to compute the AUC, accuracy, recall and precision for the attack label from each model testing result, but the f1 score is also calculated as the f1 score seeks a balance between precision and recall. Accuracy could have been a good option had the classes been balanced. Metrics like precision and recall are typically used because they take into account the type of error but in most cases there is some desired balance between precision and recall, which can be captured by combining the two into a single metric, called the F-measure i.e. the f1-score. So, the f1-score is more proper for measuring the model performance on identifying attacks.\n",
    "\n",
    "\n",
    "\n",
    "\n",
    "##### References:\n",
    "Shung, K. (2020). Accuracy, Precision, Recall or F1?. Retrieved 4 October 2020, from https://towardsdatascience.com/accuracy-precision-recall-or-f1-331fb37c5cb9\n"
   ]
  },
  {
   "cell_type": "markdown",
   "metadata": {},
   "source": [
    "##### 4. Display the top-5 most important features in each model. Discuss which pipeline model is better, and whether the feature “ts” should be included in the model. And visualise the ROC curve for the better model you selected for each use case."
   ]
  },
  {
   "cell_type": "markdown",
   "metadata": {},
   "source": [
    "##### References:\n",
    "Lin, T. (2020). Feature Selection Using Feature Importance Score - Creating a PySpark Estimator. Retrieved 4 October 2020, from https://www.timlrx.com/2018/06/19/feature-selection-using-feature-importance-score-creating-a-pyspark-estimator/"
   ]
  },
  {
   "cell_type": "code",
   "execution_count": null,
   "metadata": {},
   "outputs": [],
   "source": [
    "def ExtractFeatureImp(featureImp, dataset, featuresCol):\n",
    "    list_extract = []\n",
    "    for i in dataset.schema[featuresCol].metadata[\"ml_attr\"][\"attrs\"]:\n",
    "        list_extract = list_extract + dataset.schema[featuresCol].metadata[\"ml_attr\"][\"attrs\"][i]\n",
    "    varlist = pd.DataFrame(list_extract)\n",
    "    varlist['score'] = varlist['idx'].apply(lambda x: featureImp[x])\n",
    "    return(varlist.sort_values('score', ascending = False))"
   ]
  },
  {
   "cell_type": "code",
   "execution_count": null,
   "metadata": {},
   "outputs": [],
   "source": [
    "#Top 5 important features of memory decision tree model\n",
    "\n",
    "ExtractFeatureImp(memory_dt_model.stages[-1].featureImportances, memory_dtPredictions, \"features\").head(5)"
   ]
  },
  {
   "cell_type": "code",
   "execution_count": null,
   "metadata": {},
   "outputs": [],
   "source": [
    "#Top 5 important features of memory gradient boosting tree model\n",
    "\n",
    "ExtractFeatureImp(memory_gbt_model.stages[-1].featureImportances, memory_gbtPredictions, \"features\").head(5)"
   ]
  },
  {
   "cell_type": "code",
   "execution_count": null,
   "metadata": {},
   "outputs": [],
   "source": [
    "#Top 5 important features of process decision tree model\n",
    "\n",
    "ExtractFeatureImp(process_dt_model.stages[-1].featureImportances, process_dtPredictions, \"features\").head(5)"
   ]
  },
  {
   "cell_type": "code",
   "execution_count": null,
   "metadata": {},
   "outputs": [],
   "source": [
    "#Top 5 important features of process gradient boosting tree model\n",
    "\n",
    "ExtractFeatureImp(process_gbt_model.stages[-1].featureImportances, process_gbtPredictions, \"features\").head(5)"
   ]
  },
  {
   "cell_type": "markdown",
   "metadata": {},
   "source": [
    "##### DESCRIPTION:\n",
    "As there is a huge imbalance in the data, f1 score, which is a combinations of both precision and recall, is considered to be a better metric for observing which model is better in terms of its performance. From th f1-scores, it can be seen that the gradient boosting tree model has a higher f1 score in comparison to the decision tree for the memory use case. Similarly, it can be seen that the gradient boosting tree model has a higher f1 score in comparison to the decision tree for the process use case.\n",
    "Thus, the gradient boosting tree models for the memory activity as well as the process activity are better than the decision tree models.\n",
    "\n",
    "A decision tree is a weak predictor. More trees give a better model and prevent overfitting. However, the more the trees, the slower the process. Reducing the set of features can dramatically speed up the process in the case of decision tree.\n"
   ]
  },
  {
   "cell_type": "markdown",
   "metadata": {},
   "source": [
    "##### References:\n",
    "* pyspark.mllib.common — PySpark 3.0.1 documentation. (2020). Retrieved 4 October 2020, from https://spark.apache.org/docs/latest/api/python/_modules/pyspark/mllib/common.html\n",
    "\n",
    "\n",
    "* Decision Tree vs Random Forest vs Gradient Boosting Machines: Explained Simply. (2020). Retrieved 4 October 2020, from https://www.datasciencecentral.com/profiles/blogs/decision-tree-vs-random-forest-vs-boosted-trees-explained#:~:text=If%20you%20carefully%20tune%20parameters,to%20tune%20than%20random%20forests."
   ]
  },
  {
   "cell_type": "code",
   "execution_count": null,
   "metadata": {},
   "outputs": [],
   "source": [
    "import matplotlib.pyplot as plt\n",
    "from pyspark.mllib.evaluation import BinaryClassificationMetrics\n",
    "\n",
    "class CurveMetrics(BinaryClassificationMetrics):\n",
    "    def _init_(self, *args):\n",
    "        super(CurveMetrics, self)._init_(*args)\n",
    "\n",
    "    def _to_list(self, rdd):\n",
    "        points = []\n",
    "        for row in rdd.collect():\n",
    "            # Results are returned as type scala.Tuple2, \n",
    "            points += [(float(row._1()), float(row._2()))]\n",
    "        return points\n",
    "\n",
    "    def get_curve(self, method):\n",
    "        rdd = getattr(self._java_model, method)().toJavaRDD()\n",
    "        return self._to_list(rdd)"
   ]
  },
  {
   "cell_type": "markdown",
   "metadata": {},
   "source": [
    "#### Memory GBT:"
   ]
  },
  {
   "cell_type": "code",
   "execution_count": null,
   "metadata": {},
   "outputs": [],
   "source": [
    "preds = memory_gbtPredictions.select('label','probability').rdd.map(lambda row: (float(row['probability'][1]), float(row['label'])))\n",
    "roc = CurveMetrics(preds).get_curve('roc')\n",
    "\n",
    "title = 'ROC'\n",
    "xlabel = 'False Positive Rate'\n",
    "ylabel = 'True Positive Rate'\n",
    "plt.figure(figsize=(10, 6))\n",
    "x_val = [x[0] for x in roc]\n",
    "y_val = [x[1] for x in roc]\n",
    "plt.title(title)\n",
    "plt.xlabel(xlabel)\n",
    "plt.ylabel(ylabel)\n",
    "plt.plot(x_val, y_val)"
   ]
  },
  {
   "cell_type": "markdown",
   "metadata": {},
   "source": [
    "##### Process GBT:"
   ]
  },
  {
   "cell_type": "code",
   "execution_count": null,
   "metadata": {},
   "outputs": [],
   "source": [
    "preds = process_gbtPredictions.select('label','probability').rdd.map(lambda row: (float(row['probability'][1]), float(row['label'])))\n",
    "roc = CurveMetrics(preds).get_curve('roc')\n",
    "\n",
    "title = 'ROC'\n",
    "xlabel = 'False Positive Rate'\n",
    "ylabel = 'True Positive Rate'\n",
    "plt.figure(figsize=(10, 6))\n",
    "x_val = [x[0] for x in roc]\n",
    "y_val = [x[1] for x in roc]\n",
    "plt.title(title)\n",
    "plt.xlabel(xlabel)\n",
    "plt.ylabel(ylabel)\n",
    "plt.plot(x_val, y_val)"
   ]
  },
  {
   "cell_type": "code",
   "execution_count": null,
   "metadata": {},
   "outputs": [],
   "source": []
  },
  {
   "cell_type": "markdown",
   "metadata": {},
   "source": [
    "##### 5. Using the pipeline model you selected in the previous step, re-train the pipelinemodel using a bigger set of rebalanced training data, with attack events and non-attack events being 1:2 ratio, while using all attack events data from the full data for both use cases. Then persist the better models for each use case."
   ]
  },
  {
   "cell_type": "code",
   "execution_count": null,
   "metadata": {},
   "outputs": [],
   "source": [
    "#extract the attack and non-attack data from the memory use case\n",
    "attack_train = memory_df.filter(memory_df.attack=='1')\n",
    "non_attack_train = memory_df.filter(memory_df.attack=='0')"
   ]
  },
  {
   "cell_type": "code",
   "execution_count": null,
   "metadata": {},
   "outputs": [],
   "source": [
    "rebalanced_attack = attack_train #full attack data for memory use case\n",
    "n=rebalanced_attack.count()\n",
    "rebalanced_non_attack = non_attack_train.orderBy(rand()).limit(2*n)#double the count as attack data"
   ]
  },
  {
   "cell_type": "code",
   "execution_count": null,
   "metadata": {},
   "outputs": [],
   "source": [
    "rebalanced_memory1 = rebalanced_attack.union(rebalanced_non_attack)"
   ]
  },
  {
   "cell_type": "code",
   "execution_count": null,
   "metadata": {},
   "outputs": [],
   "source": [
    "#extract the attack and non-attack data from the process use case\n",
    "attack_train_process = process_df.filter(process_df.attack=='1')\n",
    "non_attack_train_process = process_df.filter(process_df.attack=='0')"
   ]
  },
  {
   "cell_type": "code",
   "execution_count": null,
   "metadata": {},
   "outputs": [],
   "source": [
    "rebalanced_attack_process = attack_train_process #full attack data for process use case\n",
    "n1=rebalanced_process_attack.count()\n",
    "rebalanced_non_attack_process = non_attack_train_process.orderBy(rand()).limit(2*n1)#double the count as attack data"
   ]
  },
  {
   "cell_type": "code",
   "execution_count": null,
   "metadata": {},
   "outputs": [],
   "source": [
    "rebalanced_process1 = rebalanced_attack_process.union(rebalanced_non_attack_process)"
   ]
  },
  {
   "cell_type": "code",
   "execution_count": null,
   "metadata": {},
   "outputs": [],
   "source": [
    "#fit the gbt model on the new rebalanced training data for memory\n",
    "memory_gbt = pipeline_gbt.fit(rebalanced_memory1)"
   ]
  },
  {
   "cell_type": "code",
   "execution_count": null,
   "metadata": {},
   "outputs": [],
   "source": [
    "#fit the gbt model on the new rebalanced training data for process\n",
    "process_gbt = process_gbt_pipeline.fit(rebalanced_process1)"
   ]
  },
  {
   "cell_type": "code",
   "execution_count": null,
   "metadata": {},
   "outputs": [],
   "source": []
  },
  {
   "cell_type": "code",
   "execution_count": null,
   "metadata": {},
   "outputs": [],
   "source": []
  },
  {
   "cell_type": "markdown",
   "metadata": {},
   "source": [
    "## 3. Knowledge sharing\n",
    "\n",
    "##### 3.1 How many jobs are observed when training the KMeans clustering model following the code below?"
   ]
  },
  {
   "cell_type": "code",
   "execution_count": 87,
   "metadata": {},
   "outputs": [],
   "source": [
    "from pyspark.ml.clustering import KMeans"
   ]
  },
  {
   "cell_type": "code",
   "execution_count": 88,
   "metadata": {},
   "outputs": [],
   "source": [
    "iris_df = spark.createDataFrame([\n",
    "(4.7, 3.2, 1.3, 0.2),\n",
    "(4.9, 3.1, 1.5, 0.1),\n",
    "(5.4, 3.9, 1.3, 0.4),\n",
    "(5.0, 3.4, 1.6, 0.4),\n",
    "(5.1, 3.8, 1.6, 0.2),\n",
    "(4.9, 2.4, 3.3, 1.0),\n",
    "(6.6, 2.9, 4.6, 1.3),\n",
    "(5.6, 3.0, 4.5, 1.5),\n",
    "(5.7, 2.6, 3.5, 1.0),\n",
    "(5.8, 2.6, 4.0, 1.2),\n",
    "(5.8, 2.8, 5.1, 2.4),\n",
    "(6.2, 2.8, 4.8, 1.8),\n",
    "(6.0, 3.0, 4.8, 1.8),\n",
    "(6.7, 3.1, 5.6, 2.4),\n",
    "(6.7, 3.0, 5.2, 2.3),\n",
    "(6.2, 3.4, 5.4, 2.3)],\n",
    "['sepal_length', 'sepal_width', 'petal_length', 'petal_width'])"
   ]
  },
  {
   "cell_type": "code",
   "execution_count": 89,
   "metadata": {},
   "outputs": [],
   "source": [
    "assembler = VectorAssembler(inputCols=['sepal_length', 'sepal_width', 'petal_length', 'petal_width'],outputCol='features')"
   ]
  },
  {
   "cell_type": "code",
   "execution_count": 91,
   "metadata": {},
   "outputs": [],
   "source": [
    "kmeans = KMeans(k=3).fit(assembler.transform(iris_df))"
   ]
  },
  {
   "cell_type": "markdown",
   "metadata": {},
   "source": [
    "#### EXPLANATION:\n",
    "\n",
    "A total of 10 jobs can be observed when training the KMeans clustering model using the given code.\n"
   ]
  },
  {
   "attachments": {
    "kmeans_jobs.png": {
     "image/png": "[encoded data removed]"
    }
   },
   "cell_type": "markdown",
   "metadata": {},
   "source": [
    "\n",
    "\n",
    "![kmeans_jobs.png](attachment:kmeans_jobs.png)\n",
    "\n",
    "\n",
    "\n"
   ]
  },
  {
   "cell_type": "markdown",
   "metadata": {},
   "source": [
    "#### 3.2 Combining the KMeans algorithm from the lecture, explain what each job in Spark UI represents."
   ]
  },
  {
   "cell_type": "markdown",
   "metadata": {},
   "source": [
    "##### DESCRIPTION:\n",
    "\n",
    "KMeans is a partitional clustering algorithm where the data objects are based on a clustering criterion.It places the data objects into clusters to maximise intra-cluster similarity.\n",
    "The Kmeans algorithm partitions the given data into k clusters and each cluster has a center called centroid. As k is specified by the user, in this case k=3.\n",
    "After specifying the number of clusters, the cluster centroids are found. Then each data point is observed and assigned to its closest centroid. Then for each of the cluster the mean is recalculated i.e. every cluster gets a new centroid.\n",
    "All these steps are repeated until all the clusters become stable i.e. the convergence criteria is met.\n",
    "As it can be seen from the Spark UI, samples from the dataset are taken and the initial centroids are guessed based on the data.\n",
    "Now the data is put into the clusters according to their distance from the centroid. Then the centroids are re-calculated for the 3 clusters.\n",
    "The values are then counted by value in order to get the number of occurrences of each element.\n",
    "And now the values are collected as map and as it is returning Map collection only the pairs with unique keys and pairs with duplicate keys will be removed.\n",
    "Now, the Clustering Summary is collected after no movement from clusters is seen and thus the process is terminated.\n"
   ]
  }
 ],
 "metadata": {
  "kernelspec": {
   "display_name": "Python 3",
   "language": "python",
   "name": "python3"
  },
  "language_info": {
   "codemirror_mode": {
    "name": "ipython",
    "version": 3
   },
   "file_extension": ".py",
   "mimetype": "text/x-python",
   "name": "python",
   "nbconvert_exporter": "python",
   "pygments_lexer": "ipython3",
   "version": "3.8.2"
  }
 },
 "nbformat": 4,
 "nbformat_minor": 4
}
